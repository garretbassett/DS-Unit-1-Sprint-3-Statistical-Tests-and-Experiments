{
  "nbformat": 4,
  "nbformat_minor": 0,
  "metadata": {
    "colab": {
      "name": "Garret_Bassett_LS_DS6_132_Sampling_Confidence_Intervals_and_Hypothesis_Testing.ipynb",
      "version": "0.3.2",
      "provenance": [],
      "collapsed_sections": [],
      "toc_visible": true,
      "include_colab_link": true
    },
    "kernelspec": {
      "name": "python3",
      "display_name": "Python 3"
    }
  },
  "cells": [
    {
      "cell_type": "markdown",
      "metadata": {
        "id": "view-in-github",
        "colab_type": "text"
      },
      "source": [
        "<a href=\"https://colab.research.google.com/github/garretbassett/DS-Unit-1-Sprint-3-Statistical-Tests-and-Experiments/blob/master/module2-sampling-confidence-intervals-and-hypothesis-testing/Garret_Bassett_LS_DS6_132_Sampling_Confidence_Intervals_and_Hypothesis_Testing.ipynb\" target=\"_parent\"><img src=\"https://colab.research.google.com/assets/colab-badge.svg\" alt=\"Open In Colab\"/></a>"
      ]
    },
    {
      "cell_type": "markdown",
      "metadata": {
        "id": "838Dmw1kM2LK",
        "colab_type": "text"
      },
      "source": [
        "# Lambda School Data Science Module 132\n",
        "## Sampling, Confidence Intervals, and Hypothesis Testing"
      ]
    },
    {
      "cell_type": "markdown",
      "metadata": {
        "id": "dbcPKIo5M6Ny",
        "colab_type": "text"
      },
      "source": [
        "## Prepare - examine other available hypothesis tests\n",
        "\n",
        "If you had to pick a single hypothesis test in your toolbox, t-test would probably be the best choice - but the good news is you don't have to pick just one! Here's some of the others to be aware of:"
      ]
    },
    {
      "cell_type": "code",
      "metadata": {
        "id": "tlBel8j9M6tB",
        "colab_type": "code",
        "outputId": "2c56caf8-e589-43b8-d5b0-9b0c7a93d733",
        "colab": {
          "base_uri": "https://localhost:8080/",
          "height": 187
        }
      },
      "source": [
        "import numpy as np\n",
        "from scipy.stats import chisquare  # One-way chi square test\n",
        "\n",
        "# Chi square can take any crosstab/table and test the independence of rows/cols\n",
        "# The null hypothesis is that the rows/cols are independent -> low chi square\n",
        "# The alternative is that there is a dependence -> high chi square\n",
        "# Be aware! Chi square does *not* tell you direction/causation\n",
        "\n",
        "ind_obs = np.array([[1, 1], [2, 2]]).T\n",
        "print(ind_obs)\n",
        "print(chisquare(ind_obs, axis=None))\n",
        "\n",
        "dep_obs = np.array([[16, 18, 16, 14, 12, 12], [32, 24, 16, 28, 20, 24]]).T\n",
        "print(dep_obs)\n",
        "print(chisquare(dep_obs, axis=None))"
      ],
      "execution_count": 1,
      "outputs": [
        {
          "output_type": "stream",
          "text": [
            "[[1 2]\n",
            " [1 2]]\n",
            "Power_divergenceResult(statistic=0.6666666666666666, pvalue=0.8810148425137847)\n",
            "[[16 32]\n",
            " [18 24]\n",
            " [16 16]\n",
            " [14 28]\n",
            " [12 20]\n",
            " [12 24]]\n",
            "Power_divergenceResult(statistic=23.31034482758621, pvalue=0.015975692534127565)\n"
          ],
          "name": "stdout"
        }
      ]
    },
    {
      "cell_type": "code",
      "metadata": {
        "id": "nN0BdNiDPxbk",
        "colab_type": "code",
        "outputId": "0b64cc1e-f4c7-4da8-d156-b72289de31ba",
        "colab": {
          "base_uri": "https://localhost:8080/",
          "height": 34
        }
      },
      "source": [
        "# Distribution tests:\n",
        "# We often assume that something is normal, but it can be important to *check*\n",
        "\n",
        "# For example, later on with predictive modeling, a typical assumption is that\n",
        "# residuals (prediction errors) are normal - checking is a good diagnostic\n",
        "\n",
        "from scipy.stats import normaltest\n",
        "# Poisson models arrival times and is related to the binomial (coinflip)\n",
        "sample = np.random.poisson(5, 1000)\n",
        "print(normaltest(sample))  # Pretty clearly not normal"
      ],
      "execution_count": 5,
      "outputs": [
        {
          "output_type": "stream",
          "text": [
            "NormaltestResult(statistic=48.23540992465743, pvalue=3.35593714942331e-11)\n"
          ],
          "name": "stdout"
        }
      ]
    },
    {
      "cell_type": "code",
      "metadata": {
        "id": "P5t0WhkDReFO",
        "colab_type": "code",
        "outputId": "ecf28937-9330-48fd-fa7e-f8c202d33631",
        "colab": {
          "base_uri": "https://localhost:8080/",
          "height": 51
        }
      },
      "source": [
        "# Kruskal-Wallis H-test - compare the median rank between 2+ groups\n",
        "# Can be applied to ranking decisions/outcomes/recommendations\n",
        "# The underlying math comes from chi-square distribution, and is best for n>5\n",
        "from scipy.stats import kruskal\n",
        "\n",
        "x1 = [1, 3, 5, 7, 9]\n",
        "y1 = [2, 4, 6, 8, 10]\n",
        "print(kruskal(x1, y1))  # x1 is a little better, but not \"significantly\" so\n",
        "\n",
        "x2 = [1, 1, 1]\n",
        "y2 = [2, 2, 2]\n",
        "z = [2, 2]  # Hey, a third group, and of different size!\n",
        "print(kruskal(x2, y2, z))  # x clearly dominates"
      ],
      "execution_count": 6,
      "outputs": [
        {
          "output_type": "stream",
          "text": [
            "KruskalResult(statistic=0.2727272727272734, pvalue=0.6015081344405895)\n",
            "KruskalResult(statistic=7.0, pvalue=0.0301973834223185)\n"
          ],
          "name": "stdout"
        }
      ]
    },
    {
      "cell_type": "markdown",
      "metadata": {
        "id": "7pT3IP36Rh0b",
        "colab_type": "text"
      },
      "source": [
        "And there's many more! `scipy.stats` is fairly comprehensive, though there are even more available if you delve into the extended world of statistics packages. As tests get increasingly obscure and specialized, the importance of knowing them by heart becomes small - but being able to look them up and figure them out when they *are* relevant is still important."
      ]
    },
    {
      "cell_type": "markdown",
      "metadata": {
        "id": "3JqroCQYQqhy",
        "colab_type": "text"
      },
      "source": [
        "## T-test Assumptions"
      ]
    },
    {
      "cell_type": "code",
      "metadata": {
        "id": "sqy2hEFRZnvI",
        "colab_type": "code",
        "colab": {}
      },
      "source": [
        "from scipy.stats import ttest_ind\n",
        "\n",
        "?ttest_ind"
      ],
      "execution_count": 0,
      "outputs": []
    },
    {
      "cell_type": "markdown",
      "metadata": {
        "id": "xI-PcK5sZ1A9",
        "colab_type": "text"
      },
      "source": [
        "<https://statistics.laerd.com/statistical-guides/independent-t-test-statistical-guide.php>\n",
        "\n",
        "- Independence of means\n",
        "\n",
        "Are the means of our voting data independent (do not affect the outcome of one another)?\n",
        "  \n",
        "The best way to increase thel likelihood of our means being independent is to randomly sample (which we did not do).\n",
        "\n",
        "- \"Homogeneity\" of Variance? \n",
        "\n",
        "Is the magnitude of the variance between the two roughly the same?\n",
        "\n",
        "I think we're OK on this one for the voting data, although it probably could be better, one party was larger than the other.\n",
        "\n",
        "If we suspect this to be a problem then we can use Welch's T-test"
      ]
    },
    {
      "cell_type": "markdown",
      "metadata": {
        "id": "tjgoHHwGayoC",
        "colab_type": "text"
      },
      "source": [
        "- \"Dependent Variable\" (sample means) are Distributed Normally\n",
        "\n",
        "<https://stats.stackexchange.com/questions/9573/t-test-for-non-normal-when-n50>\n",
        "\n",
        "Lots of statistical tests depend on normal distributions. We can test for normality using Scipy as was shown above.\n",
        "\n",
        "This assumption is often assumed even if the assumption is a weak one. If you strongly suspect that things are not normally distributed, you can transform your data to get it looking more normal and then run your test. This problem typically goes away for large sample sizes (yay Central Limit Theorem) and is often why you don't hear it brought up. People declare the assumption to be satisfied either way. \n",
        "\n"
      ]
    },
    {
      "cell_type": "markdown",
      "metadata": {
        "id": "bvvPV-RJN2vA",
        "colab_type": "text"
      },
      "source": [
        "## Central Limit Theorem\n",
        "\n"
      ]
    },
    {
      "cell_type": "code",
      "metadata": {
        "id": "FBLoOF8qOJeJ",
        "colab_type": "code",
        "outputId": "e755e8a6-6583-4278-bbfd-7d23497da838",
        "colab": {
          "base_uri": "https://localhost:8080/",
          "height": 71
        }
      },
      "source": [
        "import numpy as np\n",
        "import matplotlib.pyplot as plt\n",
        "import pandas as pd\n",
        "\n",
        "num_flips = 100\n",
        "num_trials = 1000\n",
        "\n",
        "sample_means = []\n",
        "for x in range(0,num_trials):\n",
        "  coinflips = np.random.binomial(n=1, p=.5, size=num_flips)\n",
        "  one_sample = coinflips\n",
        "  sample_means.append(coinflips.mean())\n",
        "\n",
        "print(len(sample_means))\n",
        "print(sample_means)"
      ],
      "execution_count": 44,
      "outputs": [
        {
          "output_type": "stream",
          "text": [
            "1000\n",
            "[0.51, 0.48, 0.49, 0.49, 0.38, 0.51, 0.49, 0.59, 0.51, 0.56, 0.51, 0.53, 0.46, 0.49, 0.49, 0.56, 0.57, 0.5, 0.51, 0.56, 0.48, 0.53, 0.53, 0.51, 0.42, 0.52, 0.54, 0.58, 0.59, 0.52, 0.5, 0.5, 0.47, 0.5, 0.49, 0.53, 0.59, 0.52, 0.48, 0.51, 0.52, 0.55, 0.49, 0.53, 0.51, 0.49, 0.49, 0.51, 0.46, 0.43, 0.52, 0.52, 0.46, 0.44, 0.58, 0.5, 0.53, 0.45, 0.51, 0.51, 0.43, 0.41, 0.49, 0.44, 0.52, 0.41, 0.57, 0.58, 0.55, 0.53, 0.46, 0.49, 0.45, 0.53, 0.48, 0.48, 0.43, 0.44, 0.53, 0.47, 0.52, 0.42, 0.48, 0.46, 0.54, 0.39, 0.55, 0.57, 0.49, 0.58, 0.46, 0.45, 0.53, 0.55, 0.5, 0.6, 0.55, 0.45, 0.5, 0.45, 0.49, 0.51, 0.51, 0.5, 0.56, 0.51, 0.43, 0.44, 0.54, 0.47, 0.5, 0.46, 0.49, 0.53, 0.62, 0.52, 0.5, 0.54, 0.54, 0.45, 0.54, 0.45, 0.51, 0.5, 0.56, 0.44, 0.42, 0.48, 0.48, 0.37, 0.59, 0.55, 0.57, 0.56, 0.34, 0.44, 0.6, 0.48, 0.5, 0.49, 0.51, 0.53, 0.53, 0.44, 0.53, 0.44, 0.44, 0.51, 0.46, 0.53, 0.5, 0.48, 0.54, 0.56, 0.48, 0.56, 0.47, 0.5, 0.47, 0.54, 0.55, 0.46, 0.52, 0.56, 0.49, 0.47, 0.53, 0.47, 0.47, 0.51, 0.46, 0.47, 0.61, 0.58, 0.52, 0.56, 0.43, 0.6, 0.59, 0.53, 0.54, 0.42, 0.5, 0.48, 0.52, 0.46, 0.45, 0.56, 0.53, 0.52, 0.5, 0.54, 0.55, 0.35, 0.46, 0.55, 0.5, 0.52, 0.46, 0.54, 0.46, 0.49, 0.48, 0.5, 0.44, 0.51, 0.46, 0.57, 0.51, 0.43, 0.43, 0.48, 0.56, 0.49, 0.5, 0.44, 0.57, 0.47, 0.48, 0.47, 0.57, 0.53, 0.45, 0.55, 0.46, 0.49, 0.39, 0.57, 0.48, 0.44, 0.39, 0.54, 0.53, 0.5, 0.51, 0.55, 0.47, 0.45, 0.42, 0.48, 0.45, 0.49, 0.54, 0.49, 0.47, 0.5, 0.53, 0.48, 0.48, 0.58, 0.46, 0.45, 0.52, 0.43, 0.45, 0.41, 0.52, 0.51, 0.43, 0.55, 0.59, 0.41, 0.46, 0.48, 0.51, 0.57, 0.41, 0.45, 0.52, 0.4, 0.46, 0.43, 0.45, 0.51, 0.58, 0.49, 0.48, 0.47, 0.5, 0.57, 0.43, 0.51, 0.47, 0.51, 0.58, 0.57, 0.51, 0.5, 0.55, 0.46, 0.6, 0.48, 0.49, 0.44, 0.53, 0.5, 0.46, 0.48, 0.53, 0.48, 0.54, 0.48, 0.51, 0.6, 0.42, 0.5, 0.54, 0.46, 0.48, 0.52, 0.49, 0.55, 0.56, 0.43, 0.5, 0.44, 0.52, 0.55, 0.43, 0.54, 0.5, 0.48, 0.52, 0.44, 0.44, 0.44, 0.5, 0.53, 0.4, 0.51, 0.59, 0.53, 0.48, 0.53, 0.47, 0.41, 0.54, 0.52, 0.53, 0.41, 0.52, 0.43, 0.5, 0.47, 0.51, 0.54, 0.38, 0.47, 0.46, 0.47, 0.47, 0.54, 0.42, 0.58, 0.53, 0.51, 0.42, 0.45, 0.41, 0.43, 0.49, 0.39, 0.52, 0.51, 0.47, 0.48, 0.57, 0.47, 0.45, 0.5, 0.5, 0.51, 0.45, 0.51, 0.56, 0.52, 0.43, 0.45, 0.56, 0.51, 0.47, 0.43, 0.51, 0.46, 0.53, 0.6, 0.4, 0.44, 0.45, 0.48, 0.54, 0.54, 0.52, 0.55, 0.46, 0.39, 0.53, 0.47, 0.55, 0.51, 0.49, 0.46, 0.49, 0.61, 0.48, 0.55, 0.65, 0.52, 0.58, 0.5, 0.58, 0.54, 0.52, 0.47, 0.63, 0.5, 0.5, 0.51, 0.51, 0.51, 0.52, 0.39, 0.55, 0.47, 0.48, 0.48, 0.59, 0.4, 0.52, 0.53, 0.64, 0.46, 0.52, 0.5, 0.49, 0.47, 0.56, 0.46, 0.4, 0.48, 0.52, 0.56, 0.51, 0.48, 0.49, 0.5, 0.51, 0.48, 0.5, 0.45, 0.53, 0.56, 0.62, 0.44, 0.43, 0.49, 0.49, 0.5, 0.51, 0.48, 0.47, 0.46, 0.52, 0.49, 0.52, 0.49, 0.53, 0.5, 0.39, 0.54, 0.39, 0.47, 0.55, 0.48, 0.51, 0.62, 0.43, 0.46, 0.46, 0.47, 0.46, 0.55, 0.52, 0.51, 0.47, 0.43, 0.49, 0.46, 0.55, 0.53, 0.43, 0.53, 0.46, 0.54, 0.48, 0.55, 0.52, 0.48, 0.53, 0.53, 0.46, 0.48, 0.54, 0.51, 0.53, 0.45, 0.49, 0.51, 0.49, 0.51, 0.4, 0.53, 0.5, 0.55, 0.5, 0.48, 0.53, 0.45, 0.49, 0.46, 0.48, 0.42, 0.51, 0.55, 0.46, 0.57, 0.54, 0.59, 0.53, 0.47, 0.43, 0.52, 0.52, 0.51, 0.5, 0.56, 0.44, 0.54, 0.48, 0.52, 0.49, 0.52, 0.57, 0.43, 0.52, 0.47, 0.5, 0.46, 0.53, 0.5, 0.49, 0.59, 0.46, 0.54, 0.5, 0.47, 0.48, 0.47, 0.49, 0.51, 0.51, 0.49, 0.51, 0.53, 0.5, 0.53, 0.41, 0.49, 0.59, 0.5, 0.47, 0.58, 0.51, 0.42, 0.49, 0.52, 0.45, 0.45, 0.58, 0.5, 0.45, 0.43, 0.51, 0.53, 0.55, 0.44, 0.47, 0.46, 0.52, 0.54, 0.53, 0.53, 0.44, 0.51, 0.52, 0.41, 0.42, 0.51, 0.51, 0.49, 0.52, 0.5, 0.59, 0.55, 0.54, 0.56, 0.45, 0.47, 0.53, 0.52, 0.55, 0.51, 0.49, 0.46, 0.53, 0.51, 0.51, 0.52, 0.53, 0.5, 0.53, 0.6, 0.51, 0.48, 0.46, 0.45, 0.46, 0.45, 0.48, 0.51, 0.5, 0.55, 0.55, 0.4, 0.49, 0.52, 0.35, 0.5, 0.47, 0.51, 0.42, 0.49, 0.54, 0.46, 0.45, 0.47, 0.5, 0.53, 0.52, 0.58, 0.48, 0.54, 0.53, 0.49, 0.44, 0.5, 0.59, 0.55, 0.51, 0.48, 0.54, 0.49, 0.51, 0.59, 0.5, 0.58, 0.51, 0.5, 0.48, 0.41, 0.47, 0.54, 0.54, 0.45, 0.57, 0.45, 0.47, 0.4, 0.53, 0.47, 0.51, 0.46, 0.56, 0.48, 0.56, 0.51, 0.43, 0.53, 0.47, 0.44, 0.57, 0.47, 0.52, 0.51, 0.51, 0.49, 0.46, 0.52, 0.52, 0.51, 0.5, 0.49, 0.57, 0.53, 0.45, 0.42, 0.46, 0.45, 0.5, 0.51, 0.48, 0.45, 0.5, 0.45, 0.48, 0.5, 0.45, 0.47, 0.48, 0.58, 0.46, 0.45, 0.47, 0.5, 0.49, 0.43, 0.51, 0.51, 0.51, 0.54, 0.48, 0.56, 0.46, 0.48, 0.46, 0.48, 0.56, 0.5, 0.5, 0.48, 0.51, 0.56, 0.49, 0.52, 0.5, 0.54, 0.54, 0.51, 0.53, 0.55, 0.59, 0.53, 0.48, 0.53, 0.49, 0.44, 0.52, 0.39, 0.46, 0.43, 0.52, 0.47, 0.47, 0.41, 0.53, 0.53, 0.54, 0.42, 0.55, 0.49, 0.52, 0.44, 0.54, 0.5, 0.56, 0.62, 0.47, 0.53, 0.47, 0.5, 0.46, 0.56, 0.43, 0.52, 0.52, 0.5, 0.52, 0.51, 0.58, 0.57, 0.44, 0.43, 0.49, 0.44, 0.54, 0.5, 0.49, 0.51, 0.5, 0.51, 0.34, 0.59, 0.45, 0.46, 0.58, 0.47, 0.47, 0.48, 0.43, 0.41, 0.58, 0.52, 0.51, 0.43, 0.56, 0.44, 0.49, 0.55, 0.47, 0.48, 0.45, 0.48, 0.52, 0.48, 0.46, 0.53, 0.53, 0.49, 0.51, 0.48, 0.49, 0.5, 0.5, 0.52, 0.47, 0.54, 0.56, 0.5, 0.48, 0.45, 0.45, 0.55, 0.53, 0.51, 0.47, 0.46, 0.51, 0.49, 0.57, 0.48, 0.56, 0.52, 0.41, 0.45, 0.4, 0.51, 0.53, 0.48, 0.43, 0.48, 0.49, 0.47, 0.46, 0.47, 0.46, 0.54, 0.4, 0.43, 0.42, 0.5, 0.49, 0.54, 0.56, 0.56, 0.51, 0.47, 0.47, 0.47, 0.52, 0.43, 0.49, 0.4, 0.56, 0.49, 0.52, 0.59, 0.55, 0.57, 0.51, 0.43, 0.52, 0.47, 0.54, 0.5, 0.52, 0.5, 0.43, 0.5, 0.38, 0.5, 0.5, 0.5, 0.6, 0.56, 0.47, 0.61, 0.48, 0.48, 0.49, 0.58, 0.52, 0.46, 0.53, 0.49, 0.51, 0.54, 0.51, 0.51, 0.45, 0.47, 0.56, 0.43, 0.48, 0.49, 0.53, 0.54, 0.49, 0.5, 0.49, 0.48, 0.54, 0.5, 0.45, 0.51, 0.47, 0.53, 0.39, 0.46, 0.52, 0.49, 0.53, 0.51, 0.46, 0.55, 0.62, 0.44, 0.43, 0.58, 0.47, 0.53, 0.47, 0.48, 0.55, 0.45, 0.47, 0.49, 0.58, 0.5, 0.57, 0.55, 0.46, 0.45, 0.5, 0.48, 0.46, 0.46, 0.47, 0.59, 0.49, 0.53, 0.44, 0.47, 0.52, 0.54, 0.45, 0.44, 0.6, 0.51, 0.53, 0.53, 0.5, 0.5, 0.58, 0.39, 0.54, 0.45, 0.57, 0.45, 0.47, 0.5, 0.53, 0.54, 0.52, 0.52, 0.56, 0.58, 0.44, 0.6, 0.43, 0.51]\n"
          ],
          "name": "stdout"
        }
      ]
    },
    {
      "cell_type": "code",
      "metadata": {
        "id": "qhMT-No4kh-c",
        "colab_type": "code",
        "colab": {
          "base_uri": "https://localhost:8080/",
          "height": 51
        },
        "outputId": "d0aa6142-ef71-4da2-c047-3cf2c2ace209"
      },
      "source": [
        "np.random.binomial(n=1, p=.5, size=30)"
      ],
      "execution_count": 38,
      "outputs": [
        {
          "output_type": "execute_result",
          "data": {
            "text/plain": [
              "array([0, 0, 1, 0, 0, 1, 1, 1, 0, 0, 0, 1, 0, 1, 1, 1, 0, 1, 0, 1, 1, 1,\n",
              "       1, 1, 0, 0, 0, 1, 1, 1])"
            ]
          },
          "metadata": {
            "tags": []
          },
          "execution_count": 38
        }
      ]
    },
    {
      "cell_type": "code",
      "metadata": {
        "id": "rfeA06evOT2K",
        "colab_type": "code",
        "colab": {}
      },
      "source": [
        "# Create dataframe with single coin flip\n",
        "\n",
        "df = pd.DataFrame({'one-samp': one_sample})"
      ],
      "execution_count": 0,
      "outputs": []
    },
    {
      "cell_type": "code",
      "metadata": {
        "id": "GlMSNFX6OmBV",
        "colab_type": "code",
        "outputId": "332d01e8-fe81-43ff-e0f2-35aca3434ff1",
        "colab": {
          "base_uri": "https://localhost:8080/",
          "height": 281
        }
      },
      "source": [
        "# Plot histogram to look at distribution of a single coin flip \n",
        "\n",
        "df.hist();"
      ],
      "execution_count": 46,
      "outputs": [
        {
          "output_type": "display_data",
          "data": {
            "image/png": "[encoded data removed]",
            "text/plain": [
              "<Figure size 432x288 with 1 Axes>"
            ]
          },
          "metadata": {
            "tags": []
          }
        }
      ]
    },
    {
      "cell_type": "code",
      "metadata": {
        "id": "Jie4ypgLOs5M",
        "colab_type": "code",
        "outputId": "605a25bf-600e-48ed-8a52-5200b49e8ac3",
        "colab": {
          "base_uri": "https://localhost:8080/",
          "height": 281
        }
      },
      "source": [
        "# Plot histogram to look at distribution of all coin flips\n",
        "\n",
        "ax = plt.hist(sample_means, bins=20)\n",
        "plt.title(f'Distribution of {num_trials} sample means of {num_flips} coin flips');"
      ],
      "execution_count": 47,
      "outputs": [
        {
          "output_type": "display_data",
          "data": {
            "image/png": "[encoded data removed]",
            "text/plain": [
              "<Figure size 432x288 with 1 Axes>"
            ]
          },
          "metadata": {
            "tags": []
          }
        }
      ]
    },
    {
      "cell_type": "markdown",
      "metadata": {
        "id": "LsEAjc4rOylm",
        "colab_type": "text"
      },
      "source": [
        "What does the Central Limit Theorem State? That no matter the initial distribution of the population, the distribution of sample means taken will approximate a normal distribution as $n \\rightarrow \\infty$.\n",
        "\n",
        "This has very important implications for hypothesis testing and is precisely the reason why the t-distribution begins to approximate the normal distribution as our sample size increases. "
      ]
    },
    {
      "cell_type": "markdown",
      "metadata": {
        "id": "EYqo5vZZSFUr",
        "colab_type": "text"
      },
      "source": [
        "## Standard Error of the Mean\n",
        "\n",
        "What does it mean to \"estimate\"? the Population mean?"
      ]
    },
    {
      "cell_type": "code",
      "metadata": {
        "id": "puGXH6vbSIE4",
        "colab_type": "code",
        "outputId": "823970c0-f61e-46df-c90e-31f23c2ec77b",
        "colab": {
          "base_uri": "https://localhost:8080/",
          "height": 68
        }
      },
      "source": [
        "import numpy as np\n",
        "import pandas as pd\n",
        "\n",
        "# Average Height\n",
        "mu = 70\n",
        "sigma = 3\n",
        "\n",
        "lambda_heights = np.random.normal(mu, sigma, 2000)\n",
        "print(len(lambda_heights))\n",
        "lambda_heights"
      ],
      "execution_count": 48,
      "outputs": [
        {
          "output_type": "stream",
          "text": [
            "2000\n"
          ],
          "name": "stdout"
        },
        {
          "output_type": "execute_result",
          "data": {
            "text/plain": [
              "array([72.73033975, 68.87554861, 71.37227638, ..., 74.37079096,\n",
              "       74.28379355, 73.64743245])"
            ]
          },
          "metadata": {
            "tags": []
          },
          "execution_count": 48
        }
      ]
    },
    {
      "cell_type": "code",
      "metadata": {
        "id": "2X-aKCTSXVOc",
        "colab_type": "code",
        "outputId": "2f60e601-22a7-49d5-f65d-517c88e1590e",
        "colab": {
          "base_uri": "https://localhost:8080/",
          "height": 281
        }
      },
      "source": [
        "import seaborn as sns\n",
        "\n",
        "sns.distplot(lambda_heights)\n",
        "plt.title('Distribution of Heights (in inches)');"
      ],
      "execution_count": 49,
      "outputs": [
        {
          "output_type": "display_data",
          "data": {
            "image/png": "[encoded data removed]",
            "text/plain": [
              "<Figure size 432x288 with 1 Axes>"
            ]
          },
          "metadata": {
            "tags": []
          }
        }
      ]
    },
    {
      "cell_type": "code",
      "metadata": {
        "id": "fQlloeU4qwuI",
        "colab_type": "code",
        "outputId": "696e4f53-a754-4315-e1a0-87eae392bb3e",
        "colab": {
          "base_uri": "https://localhost:8080/",
          "height": 51
        }
      },
      "source": [
        "print(\"Population Mean:\", lambda_heights.mean())\n",
        "print(\"Population Standard Deviation:\", lambda_heights.std())"
      ],
      "execution_count": 51,
      "outputs": [
        {
          "output_type": "stream",
          "text": [
            "Population Mean: 69.9773413848544\n",
            "Population Standard Deviation: 2.9766273764385383\n"
          ],
          "name": "stdout"
        }
      ]
    },
    {
      "cell_type": "code",
      "metadata": {
        "id": "sOD7gQMxq3ib",
        "colab_type": "code",
        "outputId": "00427a8c-edf4-4063-b520-5b0ec59cc84a",
        "colab": {
          "base_uri": "https://localhost:8080/",
          "height": 221
        }
      },
      "source": [
        "population = pd.DataFrame({'heights': lambda_heights})\n",
        "print(population.shape)\n",
        "population.head()"
      ],
      "execution_count": 52,
      "outputs": [
        {
          "output_type": "stream",
          "text": [
            "(2000, 1)\n"
          ],
          "name": "stdout"
        },
        {
          "output_type": "execute_result",
          "data": {
            "text/html": [
              "<div>\n",
              "<style scoped>\n",
              "    .dataframe tbody tr th:only-of-type {\n",
              "        vertical-align: middle;\n",
              "    }\n",
              "\n",
              "    .dataframe tbody tr th {\n",
              "        vertical-align: top;\n",
              "    }\n",
              "\n",
              "    .dataframe thead th {\n",
              "        text-align: right;\n",
              "    }\n",
              "</style>\n",
              "<table border=\"1\" class=\"dataframe\">\n",
              "  <thead>\n",
              "    <tr style=\"text-align: right;\">\n",
              "      <th></th>\n",
              "      <th>heights</th>\n",
              "    </tr>\n",
              "  </thead>\n",
              "  <tbody>\n",
              "    <tr>\n",
              "      <th>0</th>\n",
              "      <td>72.730340</td>\n",
              "    </tr>\n",
              "    <tr>\n",
              "      <th>1</th>\n",
              "      <td>68.875549</td>\n",
              "    </tr>\n",
              "    <tr>\n",
              "      <th>2</th>\n",
              "      <td>71.372276</td>\n",
              "    </tr>\n",
              "    <tr>\n",
              "      <th>3</th>\n",
              "      <td>69.886522</td>\n",
              "    </tr>\n",
              "    <tr>\n",
              "      <th>4</th>\n",
              "      <td>68.705087</td>\n",
              "    </tr>\n",
              "  </tbody>\n",
              "</table>\n",
              "</div>"
            ],
            "text/plain": [
              "     heights\n",
              "0  72.730340\n",
              "1  68.875549\n",
              "2  71.372276\n",
              "3  69.886522\n",
              "4  68.705087"
            ]
          },
          "metadata": {
            "tags": []
          },
          "execution_count": 52
        }
      ]
    },
    {
      "cell_type": "code",
      "metadata": {
        "id": "A1DEQgCAq75F",
        "colab_type": "code",
        "outputId": "d1b2c665-c7cf-4532-f219-6dbf38817dea",
        "colab": {
          "base_uri": "https://localhost:8080/",
          "height": 221
        }
      },
      "source": [
        "# Take a random sample and print sample mean\n",
        "\n",
        "sample1 = population.sample(100)\n",
        "print(sample1.shape)\n",
        "sample1.head()"
      ],
      "execution_count": 54,
      "outputs": [
        {
          "output_type": "stream",
          "text": [
            "(100, 1)\n"
          ],
          "name": "stdout"
        },
        {
          "output_type": "execute_result",
          "data": {
            "text/html": [
              "<div>\n",
              "<style scoped>\n",
              "    .dataframe tbody tr th:only-of-type {\n",
              "        vertical-align: middle;\n",
              "    }\n",
              "\n",
              "    .dataframe tbody tr th {\n",
              "        vertical-align: top;\n",
              "    }\n",
              "\n",
              "    .dataframe thead th {\n",
              "        text-align: right;\n",
              "    }\n",
              "</style>\n",
              "<table border=\"1\" class=\"dataframe\">\n",
              "  <thead>\n",
              "    <tr style=\"text-align: right;\">\n",
              "      <th></th>\n",
              "      <th>heights</th>\n",
              "    </tr>\n",
              "  </thead>\n",
              "  <tbody>\n",
              "    <tr>\n",
              "      <th>199</th>\n",
              "      <td>67.405772</td>\n",
              "    </tr>\n",
              "    <tr>\n",
              "      <th>1044</th>\n",
              "      <td>78.307873</td>\n",
              "    </tr>\n",
              "    <tr>\n",
              "      <th>1641</th>\n",
              "      <td>76.895422</td>\n",
              "    </tr>\n",
              "    <tr>\n",
              "      <th>46</th>\n",
              "      <td>69.218421</td>\n",
              "    </tr>\n",
              "    <tr>\n",
              "      <th>904</th>\n",
              "      <td>75.753916</td>\n",
              "    </tr>\n",
              "  </tbody>\n",
              "</table>\n",
              "</div>"
            ],
            "text/plain": [
              "        heights\n",
              "199   67.405772\n",
              "1044  78.307873\n",
              "1641  76.895422\n",
              "46    69.218421\n",
              "904   75.753916"
            ]
          },
          "metadata": {
            "tags": []
          },
          "execution_count": 54
        }
      ]
    },
    {
      "cell_type": "code",
      "metadata": {
        "id": "oGvGyZRrRrLM",
        "colab_type": "code",
        "outputId": "1f8859d5-16ff-4410-c8bf-6b823ca22fed",
        "colab": {
          "base_uri": "https://localhost:8080/",
          "height": 34
        }
      },
      "source": [
        "print('Sample Mean #1: ', sample1['heights'].mean())"
      ],
      "execution_count": 55,
      "outputs": [
        {
          "output_type": "stream",
          "text": [
            "Sample Mean #1:  70.50262083909242\n"
          ],
          "name": "stdout"
        }
      ]
    },
    {
      "cell_type": "code",
      "metadata": {
        "id": "SpMBMasFrJQK",
        "colab_type": "code",
        "outputId": "b3546e4a-affd-47e2-e18b-885a24d002df",
        "colab": {
          "base_uri": "https://localhost:8080/",
          "height": 34
        }
      },
      "source": [
        "# Take a different random sample and print sample mean\n",
        "\n",
        "sample2 = population.sample(20)\n",
        "print('Sample Mean #2: ', sample2['heights'].mean())"
      ],
      "execution_count": 56,
      "outputs": [
        {
          "output_type": "stream",
          "text": [
            "Sample Mean #2:  69.80775814546197\n"
          ],
          "name": "stdout"
        }
      ]
    },
    {
      "cell_type": "markdown",
      "metadata": {
        "id": "nfdQf8QYUUmw",
        "colab_type": "text"
      },
      "source": [
        "## Build and Interpret a Confidence Interval\n",
        "\n",
        "<img src=\"https://github.com/ryanallredblog/ryanallredblog.github.io/blob/master/img/Confidence_Interval.png?raw=true\" width=400>"
      ]
    },
    {
      "cell_type": "code",
      "metadata": {
        "id": "tBx71Kf0UjT3",
        "colab_type": "code",
        "colab": {
          "base_uri": "https://localhost:8080/",
          "height": 51
        },
        "outputId": "c426047d-a00a-41ce-9369-35564541a079"
      },
      "source": [
        "coinflips_10000 = np.random.binomial(n=1, p=0.5, size=10000)\n",
        "\n",
        "sample_std = np.std(coinflips_10000)\n",
        "print('Sample Std Dev: ', sample_std)\n",
        "sample_size = len(coinflips_10000)\n",
        "print('Sample Size: ', sample_size)"
      ],
      "execution_count": 84,
      "outputs": [
        {
          "output_type": "stream",
          "text": [
            "Sample Std Dev:  0.4999059011454056\n",
            "Sample Size:  10000\n"
          ],
          "name": "stdout"
        }
      ]
    },
    {
      "cell_type": "code",
      "metadata": {
        "id": "C9lDFslhqRmL",
        "colab_type": "code",
        "colab": {
          "base_uri": "https://localhost:8080/",
          "height": 34
        },
        "outputId": "2ddded03-7743-458f-8feb-2a4c992dcb2a"
      },
      "source": [
        "std_error = sample_std / np.sqrt(sample_size)\n",
        "print(std_error)"
      ],
      "execution_count": 85,
      "outputs": [
        {
          "output_type": "stream",
          "text": [
            "0.004999059011454057\n"
          ],
          "name": "stdout"
        }
      ]
    },
    {
      "cell_type": "markdown",
      "metadata": {
        "id": "RkYC5rnUw914",
        "colab_type": "text"
      },
      "source": [
        "### What confidence level do we want our confidence interval to represent?\n",
        "\n",
        "95% confidence Interval? 99% confidence interval? "
      ]
    },
    {
      "cell_type": "code",
      "metadata": {
        "id": "jze1zJsewQx_",
        "colab_type": "code",
        "colab": {
          "base_uri": "https://localhost:8080/",
          "height": 34
        },
        "outputId": "77ed2adc-9c60-4a65-cf64-06d0d1778659"
      },
      "source": [
        "import scipy.stats as stats\n",
        "t = stats.t.ppf(0.975, sample_size-1)\n",
        "print(t)"
      ],
      "execution_count": 86,
      "outputs": [
        {
          "output_type": "stream",
          "text": [
            "1.9602012636213575\n"
          ],
          "name": "stdout"
        }
      ]
    },
    {
      "cell_type": "code",
      "metadata": {
        "id": "Q0ZuNrNyrlwz",
        "colab_type": "code",
        "colab": {
          "base_uri": "https://localhost:8080/",
          "height": 51
        },
        "outputId": "61f986e0-59be-4e30-f678-93e6e3557dd3"
      },
      "source": [
        "sample_mean = coinflips_10000.mean()\n",
        "confidence_interval = (sample_mean - t * std_error, sample_mean + t * std_error)\n",
        "print('Sample Mean: ', sample_mean)\n",
        "print('Confidence Interval: ', confidence_interval)"
      ],
      "execution_count": 87,
      "outputs": [
        {
          "output_type": "stream",
          "text": [
            "Sample Mean:  0.5097\n",
            "Confidence Interval:  (0.4999008382088301, 0.5194991617911701)\n"
          ],
          "name": "stdout"
        }
      ]
    },
    {
      "cell_type": "markdown",
      "metadata": {
        "id": "C4rtc8luVUAK",
        "colab_type": "text"
      },
      "source": [
        "## Graphically Represent a Confidence Interval"
      ]
    },
    {
      "cell_type": "code",
      "metadata": {
        "id": "pz6F9_3_VmKr",
        "colab_type": "code",
        "colab": {
          "base_uri": "https://localhost:8080/",
          "height": 286
        },
        "outputId": "7b7e9f70-6696-4814-f6e5-264ba560cf82"
      },
      "source": [
        "import seaborn as sns\n",
        "\n",
        "sns.kdeplot(coinflips_10000)\n",
        "plt.axvline(x=sample_mean, color='k')\n",
        "plt.axvline(x=confidence_interval[0], color='r')\n",
        "plt.axvline(x=confidence_interval[1], color='r')"
      ],
      "execution_count": 88,
      "outputs": [
        {
          "output_type": "execute_result",
          "data": {
            "text/plain": [
              "<matplotlib.lines.Line2D at 0x7f663b2e5780>"
            ]
          },
          "metadata": {
            "tags": []
          },
          "execution_count": 88
        },
        {
          "output_type": "display_data",
          "data": {
            "image/png": "[encoded data removed]",
            "text/plain": [
              "<Figure size 432x288 with 1 Axes>"
            ]
          },
          "metadata": {
            "tags": []
          }
        }
      ]
    },
    {
      "cell_type": "markdown",
      "metadata": {
        "id": "_oy0uoBGeoEb",
        "colab_type": "text"
      },
      "source": [
        "## Relationship between Confidence Intervals and T-tests\n",
        "\n",
        "Confidence Interval == Bounds of statistical significance for our t-test\n",
        "\n",
        "A sample mean that falls inside of our confidence interval will \"FAIL TO REJECT\" our null hypothesis\n",
        "\n",
        "A sample mean that falls outside of our confidence interval will \"REJECT\" our null hypothesis"
      ]
    },
    {
      "cell_type": "code",
      "metadata": {
        "id": "izIyVavzfCXS",
        "colab_type": "code",
        "colab": {}
      },
      "source": [
        "from scipy.stats import t, ttest_1samp"
      ],
      "execution_count": 0,
      "outputs": []
    },
    {
      "cell_type": "code",
      "metadata": {
        "id": "Y7HwdMwDfL1N",
        "colab_type": "code",
        "outputId": "69ed859c-f82e-4c68-b757-bae7ea3578aa",
        "colab": {
          "base_uri": "https://localhost:8080/",
          "height": 54
        }
      },
      "source": [
        "import numpy as np\n",
        "\n",
        "coinflip_means = []\n",
        "for x in range(0,100):\n",
        "  coinflips = np.random.binomial(n=1, p=.5, size=30)\n",
        "  coinflip_means.append(coinflips.mean())\n",
        "\n",
        "print(coinflip_means)"
      ],
      "execution_count": 92,
      "outputs": [
        {
          "output_type": "stream",
          "text": [
            "[0.4, 0.36666666666666664, 0.43333333333333335, 0.4666666666666667, 0.6, 0.5333333333333333, 0.4666666666666667, 0.5, 0.43333333333333335, 0.7, 0.5, 0.5, 0.6, 0.4666666666666667, 0.5333333333333333, 0.5333333333333333, 0.6, 0.6, 0.4, 0.5, 0.4666666666666667, 0.4666666666666667, 0.5333333333333333, 0.6333333333333333, 0.5333333333333333, 0.4666666666666667, 0.4, 0.6333333333333333, 0.5333333333333333, 0.3, 0.5666666666666667, 0.4666666666666667, 0.7, 0.5333333333333333, 0.4666666666666667, 0.5, 0.5333333333333333, 0.4666666666666667, 0.6, 0.36666666666666664, 0.7333333333333333, 0.5666666666666667, 0.36666666666666664, 0.43333333333333335, 0.5, 0.43333333333333335, 0.6666666666666666, 0.4666666666666667, 0.6, 0.5333333333333333, 0.4, 0.5666666666666667, 0.6, 0.4666666666666667, 0.5, 0.5333333333333333, 0.4666666666666667, 0.6, 0.5666666666666667, 0.4666666666666667, 0.5666666666666667, 0.5666666666666667, 0.6333333333333333, 0.5666666666666667, 0.3, 0.5666666666666667, 0.4, 0.43333333333333335, 0.5333333333333333, 0.4666666666666667, 0.3333333333333333, 0.4666666666666667, 0.36666666666666664, 0.4, 0.4666666666666667, 0.5333333333333333, 0.3, 0.6, 0.43333333333333335, 0.36666666666666664, 0.3333333333333333, 0.43333333333333335, 0.5, 0.6, 0.36666666666666664, 0.5333333333333333, 0.6, 0.5666666666666667, 0.4, 0.3, 0.5, 0.6333333333333333, 0.6, 0.5, 0.5, 0.5333333333333333, 0.4666666666666667, 0.36666666666666664, 0.7, 0.36666666666666664]\n"
          ],
          "name": "stdout"
        }
      ]
    },
    {
      "cell_type": "code",
      "metadata": {
        "id": "BbX57rF0uA6p",
        "colab_type": "code",
        "colab": {
          "base_uri": "https://localhost:8080/",
          "height": 51
        },
        "outputId": "11fe83b6-bdbb-41a1-f7be-cd153698946f"
      },
      "source": [
        "# 95% confidence interval\n",
        "t_stat = stats.t.ppf(0.975, 99)\n",
        "print('T-STAT: ', t_stat)\n",
        "\n",
        "std_sample = np.std(coinflip_means)\n",
        "std_err = std_sample / np.sqrt(len(coinflip_means))\n",
        "ci = stats.t.interval(0.95, 99, loc=np.mean(coinflip_means), scale=std_err)\n",
        "\n",
        "print('95% CI: ', ci)"
      ],
      "execution_count": 100,
      "outputs": [
        {
          "output_type": "stream",
          "text": [
            "T-STAT:  1.9842169515086827\n",
            "95% CI:  (0.4795677267170834, 0.5177656066162498)\n"
          ],
          "name": "stdout"
        }
      ]
    },
    {
      "cell_type": "markdown",
      "metadata": {
        "id": "EamZNJhAf-fY",
        "colab_type": "text"
      },
      "source": [
        "A null hypothesis that's just inside of our confidence interval == fail to reject\n",
        "\n"
      ]
    },
    {
      "cell_type": "code",
      "metadata": {
        "id": "cNpzYbjpfirR",
        "colab_type": "code",
        "colab": {
          "base_uri": "https://localhost:8080/",
          "height": 34
        },
        "outputId": "984ecc46-5bad-48d9-befb-ac8223b455eb"
      },
      "source": [
        "ttest_1samp(coinflip_means, 0.517)"
      ],
      "execution_count": 106,
      "outputs": [
        {
          "output_type": "execute_result",
          "data": {
            "text/plain": [
              "Ttest_1sampResult(statistic=-1.8951296414900796, pvalue=0.06099267027705539)"
            ]
          },
          "metadata": {
            "tags": []
          },
          "execution_count": 106
        }
      ]
    },
    {
      "cell_type": "markdown",
      "metadata": {
        "id": "hO34mbL9gHn1",
        "colab_type": "text"
      },
      "source": [
        "A null hypothesis that's just outside of our confidence interval == reject\n",
        "\n"
      ]
    },
    {
      "cell_type": "code",
      "metadata": {
        "id": "N4SUjj82gKlv",
        "colab_type": "code",
        "colab": {
          "base_uri": "https://localhost:8080/",
          "height": 34
        },
        "outputId": "cc6588e1-c023-425e-f315-567447d43811"
      },
      "source": [
        "ttest_1samp(coinflip_means, 0.479)"
      ],
      "execution_count": 108,
      "outputs": [
        {
          "output_type": "execute_result",
          "data": {
            "text/plain": [
              "Ttest_1sampResult(statistic=2.032957251780263, pvalue=0.04473377745475472)"
            ]
          },
          "metadata": {
            "tags": []
          },
          "execution_count": 108
        }
      ]
    },
    {
      "cell_type": "code",
      "metadata": {
        "id": "rQZvNu6B3b9b",
        "colab_type": "code",
        "colab": {}
      },
      "source": [
        "def confidence_interval(data, confidence=0.95):\n",
        "  \"\"\"\n",
        "  Calculate a confidence interval around a sample mean for given data.\n",
        "  Using t-distribution and two-tailed test, default 95% confidence. \n",
        "  \n",
        "  Arguments:\n",
        "    data - iterable (list or numpy array) of sample observations\n",
        "    confidence - level of confidence for the interval\n",
        "  \n",
        "  Returns:\n",
        "    tuple of (mean, lower bound, upper bound)\n",
        "  \"\"\"\n",
        "  data = np.array(data)\n",
        "  mean = np.mean(data)\n",
        "  n = len(data)\n",
        "  stderr = stats.sem(data)\n",
        "  interval = stderr * stats.t.ppf((1 + confidence) / 2.0, n - 1)\n",
        "  return (mean, mean - interval, mean + interval)"
      ],
      "execution_count": 0,
      "outputs": []
    },
    {
      "cell_type": "markdown",
      "metadata": {
        "id": "pTIzrkKdUaLl",
        "colab_type": "text"
      },
      "source": [
        "## Run a $\\chi^{2}$ Test \"by hand\" (Using Numpy)"
      ]
    },
    {
      "cell_type": "code",
      "metadata": {
        "id": "DDsovHUyUj3v",
        "colab_type": "code",
        "outputId": "c7f1d196-d5c7-4bf3-d140-ea9109dfea8e",
        "colab": {
          "base_uri": "https://localhost:8080/",
          "height": 323
        }
      },
      "source": [
        "df = pd.read_csv('https://raw.githubusercontent.com/ryanleeallred/datasets/master/adult.csv', na_values=\" ?\")\n",
        "print(df.shape)\n",
        "df.head()"
      ],
      "execution_count": 111,
      "outputs": [
        {
          "output_type": "stream",
          "text": [
            "(32561, 15)\n"
          ],
          "name": "stdout"
        },
        {
          "output_type": "execute_result",
          "data": {
            "text/html": [
              "<div>\n",
              "<style scoped>\n",
              "    .dataframe tbody tr th:only-of-type {\n",
              "        vertical-align: middle;\n",
              "    }\n",
              "\n",
              "    .dataframe tbody tr th {\n",
              "        vertical-align: top;\n",
              "    }\n",
              "\n",
              "    .dataframe thead th {\n",
              "        text-align: right;\n",
              "    }\n",
              "</style>\n",
              "<table border=\"1\" class=\"dataframe\">\n",
              "  <thead>\n",
              "    <tr style=\"text-align: right;\">\n",
              "      <th></th>\n",
              "      <th>age</th>\n",
              "      <th>workclass</th>\n",
              "      <th>fnlwgt</th>\n",
              "      <th>education</th>\n",
              "      <th>education-num</th>\n",
              "      <th>marital-status</th>\n",
              "      <th>occupation</th>\n",
              "      <th>relationship</th>\n",
              "      <th>race</th>\n",
              "      <th>sex</th>\n",
              "      <th>capital-gain</th>\n",
              "      <th>capital-loss</th>\n",
              "      <th>hours-per-week</th>\n",
              "      <th>country</th>\n",
              "      <th>salary</th>\n",
              "    </tr>\n",
              "  </thead>\n",
              "  <tbody>\n",
              "    <tr>\n",
              "      <th>0</th>\n",
              "      <td>39</td>\n",
              "      <td>State-gov</td>\n",
              "      <td>77516</td>\n",
              "      <td>Bachelors</td>\n",
              "      <td>13</td>\n",
              "      <td>Never-married</td>\n",
              "      <td>Adm-clerical</td>\n",
              "      <td>Not-in-family</td>\n",
              "      <td>White</td>\n",
              "      <td>Male</td>\n",
              "      <td>2174</td>\n",
              "      <td>0</td>\n",
              "      <td>40</td>\n",
              "      <td>United-States</td>\n",
              "      <td>&lt;=50K</td>\n",
              "    </tr>\n",
              "    <tr>\n",
              "      <th>1</th>\n",
              "      <td>50</td>\n",
              "      <td>Self-emp-not-inc</td>\n",
              "      <td>83311</td>\n",
              "      <td>Bachelors</td>\n",
              "      <td>13</td>\n",
              "      <td>Married-civ-spouse</td>\n",
              "      <td>Exec-managerial</td>\n",
              "      <td>Husband</td>\n",
              "      <td>White</td>\n",
              "      <td>Male</td>\n",
              "      <td>0</td>\n",
              "      <td>0</td>\n",
              "      <td>13</td>\n",
              "      <td>United-States</td>\n",
              "      <td>&lt;=50K</td>\n",
              "    </tr>\n",
              "    <tr>\n",
              "      <th>2</th>\n",
              "      <td>38</td>\n",
              "      <td>Private</td>\n",
              "      <td>215646</td>\n",
              "      <td>HS-grad</td>\n",
              "      <td>9</td>\n",
              "      <td>Divorced</td>\n",
              "      <td>Handlers-cleaners</td>\n",
              "      <td>Not-in-family</td>\n",
              "      <td>White</td>\n",
              "      <td>Male</td>\n",
              "      <td>0</td>\n",
              "      <td>0</td>\n",
              "      <td>40</td>\n",
              "      <td>United-States</td>\n",
              "      <td>&lt;=50K</td>\n",
              "    </tr>\n",
              "    <tr>\n",
              "      <th>3</th>\n",
              "      <td>53</td>\n",
              "      <td>Private</td>\n",
              "      <td>234721</td>\n",
              "      <td>11th</td>\n",
              "      <td>7</td>\n",
              "      <td>Married-civ-spouse</td>\n",
              "      <td>Handlers-cleaners</td>\n",
              "      <td>Husband</td>\n",
              "      <td>Black</td>\n",
              "      <td>Male</td>\n",
              "      <td>0</td>\n",
              "      <td>0</td>\n",
              "      <td>40</td>\n",
              "      <td>United-States</td>\n",
              "      <td>&lt;=50K</td>\n",
              "    </tr>\n",
              "    <tr>\n",
              "      <th>4</th>\n",
              "      <td>28</td>\n",
              "      <td>Private</td>\n",
              "      <td>338409</td>\n",
              "      <td>Bachelors</td>\n",
              "      <td>13</td>\n",
              "      <td>Married-civ-spouse</td>\n",
              "      <td>Prof-specialty</td>\n",
              "      <td>Wife</td>\n",
              "      <td>Black</td>\n",
              "      <td>Female</td>\n",
              "      <td>0</td>\n",
              "      <td>0</td>\n",
              "      <td>40</td>\n",
              "      <td>Cuba</td>\n",
              "      <td>&lt;=50K</td>\n",
              "    </tr>\n",
              "  </tbody>\n",
              "</table>\n",
              "</div>"
            ],
            "text/plain": [
              "   age          workclass  fnlwgt  ... hours-per-week         country  salary\n",
              "0   39          State-gov   77516  ...             40   United-States   <=50K\n",
              "1   50   Self-emp-not-inc   83311  ...             13   United-States   <=50K\n",
              "2   38            Private  215646  ...             40   United-States   <=50K\n",
              "3   53            Private  234721  ...             40   United-States   <=50K\n",
              "4   28            Private  338409  ...             40            Cuba   <=50K\n",
              "\n",
              "[5 rows x 15 columns]"
            ]
          },
          "metadata": {
            "tags": []
          },
          "execution_count": 111
        }
      ]
    },
    {
      "cell_type": "code",
      "metadata": {
        "id": "dwAACJewwMfQ",
        "colab_type": "code",
        "colab": {
          "base_uri": "https://localhost:8080/",
          "height": 173
        },
        "outputId": "efd6413e-7265-40f0-b815-97193c3ed053"
      },
      "source": [
        "df.corr()\n",
        "df.describe(exclude='number')"
      ],
      "execution_count": 116,
      "outputs": [
        {
          "output_type": "execute_result",
          "data": {
            "text/html": [
              "<div>\n",
              "<style scoped>\n",
              "    .dataframe tbody tr th:only-of-type {\n",
              "        vertical-align: middle;\n",
              "    }\n",
              "\n",
              "    .dataframe tbody tr th {\n",
              "        vertical-align: top;\n",
              "    }\n",
              "\n",
              "    .dataframe thead th {\n",
              "        text-align: right;\n",
              "    }\n",
              "</style>\n",
              "<table border=\"1\" class=\"dataframe\">\n",
              "  <thead>\n",
              "    <tr style=\"text-align: right;\">\n",
              "      <th></th>\n",
              "      <th>workclass</th>\n",
              "      <th>education</th>\n",
              "      <th>marital-status</th>\n",
              "      <th>occupation</th>\n",
              "      <th>relationship</th>\n",
              "      <th>race</th>\n",
              "      <th>sex</th>\n",
              "      <th>country</th>\n",
              "      <th>salary</th>\n",
              "    </tr>\n",
              "  </thead>\n",
              "  <tbody>\n",
              "    <tr>\n",
              "      <th>count</th>\n",
              "      <td>30725</td>\n",
              "      <td>32561</td>\n",
              "      <td>32561</td>\n",
              "      <td>30718</td>\n",
              "      <td>32561</td>\n",
              "      <td>32561</td>\n",
              "      <td>32561</td>\n",
              "      <td>31978</td>\n",
              "      <td>32561</td>\n",
              "    </tr>\n",
              "    <tr>\n",
              "      <th>unique</th>\n",
              "      <td>8</td>\n",
              "      <td>16</td>\n",
              "      <td>7</td>\n",
              "      <td>14</td>\n",
              "      <td>6</td>\n",
              "      <td>5</td>\n",
              "      <td>2</td>\n",
              "      <td>41</td>\n",
              "      <td>2</td>\n",
              "    </tr>\n",
              "    <tr>\n",
              "      <th>top</th>\n",
              "      <td>Private</td>\n",
              "      <td>HS-grad</td>\n",
              "      <td>Married-civ-spouse</td>\n",
              "      <td>Prof-specialty</td>\n",
              "      <td>Husband</td>\n",
              "      <td>White</td>\n",
              "      <td>Male</td>\n",
              "      <td>United-States</td>\n",
              "      <td>&lt;=50K</td>\n",
              "    </tr>\n",
              "    <tr>\n",
              "      <th>freq</th>\n",
              "      <td>22696</td>\n",
              "      <td>10501</td>\n",
              "      <td>14976</td>\n",
              "      <td>4140</td>\n",
              "      <td>13193</td>\n",
              "      <td>27816</td>\n",
              "      <td>21790</td>\n",
              "      <td>29170</td>\n",
              "      <td>24720</td>\n",
              "    </tr>\n",
              "  </tbody>\n",
              "</table>\n",
              "</div>"
            ],
            "text/plain": [
              "       workclass education       marital-status  ...    sex         country  salary\n",
              "count      30725     32561                32561  ...  32561           31978   32561\n",
              "unique         8        16                    7  ...      2              41       2\n",
              "top      Private   HS-grad   Married-civ-spouse  ...   Male   United-States   <=50K\n",
              "freq       22696     10501                14976  ...  21790           29170   24720\n",
              "\n",
              "[4 rows x 9 columns]"
            ]
          },
          "metadata": {
            "tags": []
          },
          "execution_count": 116
        }
      ]
    },
    {
      "cell_type": "code",
      "metadata": {
        "id": "ScQCTQyixcKM",
        "colab_type": "code",
        "colab": {
          "base_uri": "https://localhost:8080/",
          "height": 269
        },
        "outputId": "836dd66d-122b-486c-e6cc-6380654ae892"
      },
      "source": [
        "df['hours-per-week'].hist();"
      ],
      "execution_count": 120,
      "outputs": [
        {
          "output_type": "display_data",
          "data": {
            "image/png": "[encoded data removed]",
            "text/plain": [
              "<Figure size 432x288 with 1 Axes>"
            ]
          },
          "metadata": {
            "tags": []
          }
        }
      ]
    },
    {
      "cell_type": "code",
      "metadata": {
        "id": "FZw-bi-Pxjjm",
        "colab_type": "code",
        "colab": {
          "base_uri": "https://localhost:8080/",
          "height": 136
        },
        "outputId": "7163bf3a-8d35-4bd8-f284-50741fbccd52"
      },
      "source": [
        "cut_points = [0, 9, 19, 29, 39, 49, 500]\n",
        "label_names = ['0-9', '10-19', '20-29', '30-39', '40-49', '50+']\n",
        "df['hours_per_week_cat'] = pd.cut(df['hours-per-week'], cut_points, labels=label_names)\n",
        "df['hours_per_week_cat'].value_counts()"
      ],
      "execution_count": 128,
      "outputs": [
        {
          "output_type": "execute_result",
          "data": {
            "text/plain": [
              "40-49    18336\n",
              "50+       6462\n",
              "30-39     3667\n",
              "20-29     2392\n",
              "10-19     1246\n",
              "0-9        458\n",
              "Name: hours_per_week_cat, dtype: int64"
            ]
          },
          "metadata": {
            "tags": []
          },
          "execution_count": 128
        }
      ]
    },
    {
      "cell_type": "code",
      "metadata": {
        "id": "oZ8uBazRyRZi",
        "colab_type": "code",
        "colab": {
          "base_uri": "https://localhost:8080/",
          "height": 68
        },
        "outputId": "2c197325-d1b5-4fb1-f32c-9aaa875c3d69"
      },
      "source": [
        "df['sex'].value_counts()"
      ],
      "execution_count": 129,
      "outputs": [
        {
          "output_type": "execute_result",
          "data": {
            "text/plain": [
              " Male      21790\n",
              " Female    10771\n",
              "Name: sex, dtype: int64"
            ]
          },
          "metadata": {
            "tags": []
          },
          "execution_count": 129
        }
      ]
    },
    {
      "cell_type": "code",
      "metadata": {
        "id": "tm_nWk32yUdn",
        "colab_type": "code",
        "colab": {
          "base_uri": "https://localhost:8080/",
          "height": 173
        },
        "outputId": "6f772bd4-b421-45bd-9f1c-a632c8ad2d40"
      },
      "source": [
        "df = df.sort_values(by='hours_per_week_cat', ascending=True) # ascending is true by default\n",
        "contingency_table = pd.crosstab(df['sex'], df['hours_per_week_cat'], margins=True)\n",
        "contingency_table"
      ],
      "execution_count": 150,
      "outputs": [
        {
          "output_type": "execute_result",
          "data": {
            "text/html": [
              "<div>\n",
              "<style scoped>\n",
              "    .dataframe tbody tr th:only-of-type {\n",
              "        vertical-align: middle;\n",
              "    }\n",
              "\n",
              "    .dataframe tbody tr th {\n",
              "        vertical-align: top;\n",
              "    }\n",
              "\n",
              "    .dataframe thead th {\n",
              "        text-align: right;\n",
              "    }\n",
              "</style>\n",
              "<table border=\"1\" class=\"dataframe\">\n",
              "  <thead>\n",
              "    <tr style=\"text-align: right;\">\n",
              "      <th>hours_per_week_cat</th>\n",
              "      <th>0-9</th>\n",
              "      <th>10-19</th>\n",
              "      <th>20-29</th>\n",
              "      <th>30-39</th>\n",
              "      <th>40-49</th>\n",
              "      <th>50+</th>\n",
              "      <th>All</th>\n",
              "    </tr>\n",
              "    <tr>\n",
              "      <th>sex</th>\n",
              "      <th></th>\n",
              "      <th></th>\n",
              "      <th></th>\n",
              "      <th></th>\n",
              "      <th></th>\n",
              "      <th></th>\n",
              "      <th></th>\n",
              "    </tr>\n",
              "  </thead>\n",
              "  <tbody>\n",
              "    <tr>\n",
              "      <th>Female</th>\n",
              "      <td>235</td>\n",
              "      <td>671</td>\n",
              "      <td>1287</td>\n",
              "      <td>1914</td>\n",
              "      <td>5636</td>\n",
              "      <td>1028</td>\n",
              "      <td>10771</td>\n",
              "    </tr>\n",
              "    <tr>\n",
              "      <th>Male</th>\n",
              "      <td>223</td>\n",
              "      <td>575</td>\n",
              "      <td>1105</td>\n",
              "      <td>1753</td>\n",
              "      <td>12700</td>\n",
              "      <td>5434</td>\n",
              "      <td>21790</td>\n",
              "    </tr>\n",
              "    <tr>\n",
              "      <th>All</th>\n",
              "      <td>458</td>\n",
              "      <td>1246</td>\n",
              "      <td>2392</td>\n",
              "      <td>3667</td>\n",
              "      <td>18336</td>\n",
              "      <td>6462</td>\n",
              "      <td>32561</td>\n",
              "    </tr>\n",
              "  </tbody>\n",
              "</table>\n",
              "</div>"
            ],
            "text/plain": [
              "hours_per_week_cat  0-9  10-19  20-29  30-39  40-49   50+    All\n",
              "sex                                                             \n",
              " Female             235    671   1287   1914   5636  1028  10771\n",
              " Male               223    575   1105   1753  12700  5434  21790\n",
              "All                 458   1246   2392   3667  18336  6462  32561"
            ]
          },
          "metadata": {
            "tags": []
          },
          "execution_count": 150
        }
      ]
    },
    {
      "cell_type": "markdown",
      "metadata": {
        "id": "uyw_hby7-OHF",
        "colab_type": "text"
      },
      "source": [
        "## Expected Value Calculation\n",
        "\\begin{align}\n",
        "expected_{i,j} =\\frac{(row_{i} \\text{total})(column_{j} \\text{total}) }{(\\text{total observations})}  \n",
        "\\end{align}"
      ]
    },
    {
      "cell_type": "code",
      "metadata": {
        "id": "C11nWaal-acY",
        "colab_type": "code",
        "colab": {
          "base_uri": "https://localhost:8080/",
          "height": 51
        },
        "outputId": "4e07f7e7-3fb5-4a26-bdbb-7b085a460312"
      },
      "source": [
        "row_sums = contingency_table.iloc[0:2, 6].values\n",
        "col_sums = contingency_table.iloc[2, 0:6].values\n",
        "\n",
        "print(row_sums)\n",
        "print(col_sums)"
      ],
      "execution_count": 142,
      "outputs": [
        {
          "output_type": "stream",
          "text": [
            "[10771 21790]\n",
            "[  458  1246  2392  3667 18336  6462]\n"
          ],
          "name": "stdout"
        }
      ]
    },
    {
      "cell_type": "code",
      "metadata": {
        "id": "xxKS9Zog0G0X",
        "colab_type": "code",
        "colab": {
          "base_uri": "https://localhost:8080/",
          "height": 34
        },
        "outputId": "e12dc4fe-4b12-4c2b-d5d3-e32f1fede272"
      },
      "source": [
        "total = contingency_table.loc['All', 'All']\n",
        "total"
      ],
      "execution_count": 144,
      "outputs": [
        {
          "output_type": "execute_result",
          "data": {
            "text/plain": [
              "32561"
            ]
          },
          "metadata": {
            "tags": []
          },
          "execution_count": 144
        }
      ]
    },
    {
      "cell_type": "code",
      "metadata": {
        "id": "8s8ScZIQ0PiU",
        "colab_type": "code",
        "colab": {
          "base_uri": "https://localhost:8080/",
          "height": 102
        },
        "outputId": "f30cf23a-9b89-43ac-d9a2-b5e713402c61"
      },
      "source": [
        "expected = []\n",
        "for i in range(len(row_sums)):\n",
        "    expected_row = []\n",
        "    for col in col_sums:\n",
        "        expected_val = col * (row_sums[i] / total)\n",
        "        expected_row.append(expected_val)\n",
        "    expected.append(expected_row)\n",
        "\n",
        "expected = np.array(expected)\n",
        "print(expected.shape)\n",
        "expected"
      ],
      "execution_count": 517,
      "outputs": [
        {
          "output_type": "stream",
          "text": [
            "(2, 6)\n"
          ],
          "name": "stdout"
        },
        {
          "output_type": "execute_result",
          "data": {
            "text/plain": [
              "array([[  151.50388502,   412.16995793,   791.26046497,  1213.02346365,\n",
              "         6065.44811277,  2137.59411566],\n",
              "       [  306.49611498,   833.83004207,  1600.73953503,  2453.97653635,\n",
              "        12270.55188723,  4324.40588434]])"
            ]
          },
          "metadata": {
            "tags": []
          },
          "execution_count": 517
        }
      ]
    },
    {
      "cell_type": "markdown",
      "metadata": {
        "id": "R6AWydhG_P4s",
        "colab_type": "text"
      },
      "source": [
        "## Chi-Squared Statistic with Numpy\n",
        "\n",
        "\\begin{align}\n",
        "\\chi^2 = \\sum \\frac{(observed_{i}-expected_{i})^2}{(expected_{i})}\n",
        "\\end{align}\n",
        "\n",
        "For the $observed$ values we will just use a version of our contingency table without the margins as a numpy array. In this way, if our observed values array and our expected values array are the same shape, then we can subtract them and divide them directly which makes the calculations a lot cleaner. No for loops!"
      ]
    },
    {
      "cell_type": "code",
      "metadata": {
        "id": "o7YgaNij_cSo",
        "colab_type": "code",
        "colab": {
          "base_uri": "https://localhost:8080/",
          "height": 34
        },
        "outputId": "bcd19a94-8400-48c1-a92e-02716ae1c37c"
      },
      "source": [
        "observed = pd.crosstab(df['sex'], df['hours_per_week_cat']).values\n",
        "\n",
        "chi_square = ((observed - expected)**2 / (expected)).sum()\n",
        "chi_square"
      ],
      "execution_count": 152,
      "outputs": [
        {
          "output_type": "execute_result",
          "data": {
            "text/plain": [
              "2287.190943926107"
            ]
          },
          "metadata": {
            "tags": []
          },
          "execution_count": 152
        }
      ]
    },
    {
      "cell_type": "markdown",
      "metadata": {
        "id": "7Igz-XHcVbW3",
        "colab_type": "text"
      },
      "source": [
        "## Run a $\\chi^{2}$ Test using Scipy"
      ]
    },
    {
      "cell_type": "code",
      "metadata": {
        "id": "kazgId8L9tYZ",
        "colab_type": "code",
        "colab": {
          "base_uri": "https://localhost:8080/",
          "height": 136
        },
        "outputId": "901d9c6e-4cbc-4d0d-c452-cefae2a1b847"
      },
      "source": [
        "chi_squared, p_value, dof, expected = stats.chi2_contingency(observed)\n",
        "chi_squared, p_value, dof, expected"
      ],
      "execution_count": 153,
      "outputs": [
        {
          "output_type": "execute_result",
          "data": {
            "text/plain": [
              "(2287.190943926107,\n",
              " 0.0,\n",
              " 5,\n",
              " array([[  151.50388502,   412.16995793,   791.26046497,  1213.02346365,\n",
              "          6065.44811277,  2137.59411566],\n",
              "        [  306.49611498,   833.83004207,  1600.73953503,  2453.97653635,\n",
              "         12270.55188723,  4324.40588434]]))"
            ]
          },
          "metadata": {
            "tags": []
          },
          "execution_count": 153
        }
      ]
    },
    {
      "cell_type": "markdown",
      "metadata": {
        "id": "TRtBEP3rA307",
        "colab_type": "text"
      },
      "source": [
        "Null Hypothesis: Hours worked per week bins is **independent** of sex. \n",
        "\n",
        "Due to a p-value of 0, we REJECT the null hypothesis that hours worked per week and sex are independent, and conclude that there is an association between hours worked per week and sex. "
      ]
    },
    {
      "cell_type": "markdown",
      "metadata": {
        "id": "11OzdxWTM7UR",
        "colab_type": "text"
      },
      "source": [
        "## Assignment - Build a confidence interval\n",
        "\n",
        "A confidence interval refers to a neighborhood around some point estimate, the size of which is determined by the desired p-value. For instance, we might say that 52% of Americans prefer tacos to burritos, with a 95% confidence interval of +/- 5%.\n",
        "\n",
        "52% (0.52) is the point estimate, and +/- 5% (the interval $[0.47, 0.57]$) is the confidence interval. \"95% confidence\" means a p-value $\\leq 1 - 0.95 = 0.05$.\n",
        "\n",
        "In this case, the confidence interval includes $0.5$ - which is the natural null hypothesis (that half of Americans prefer tacos and half burritos, thus there is no clear favorite). So in this case, we could use the confidence interval to report that we've failed to reject the null hypothesis.\n",
        "\n",
        "But providing the full analysis with a confidence interval, including a graphical representation of it, can be a helpful and powerful way to tell your story. Done well, it is also more intuitive to a layperson than simply saying \"fail to reject the null hypothesis\" - it shows that in fact the data does *not* give a single clear result (the point estimate) but a whole range of possibilities.\n",
        "\n",
        "How is a confidence interval built, and how should it be interpreted? It does *not* mean that 95% of the data lies in that interval - instead, the frequentist interpretation is \"if we were to repeat this experiment 100 times, we would expect the average result to lie in this interval ~95 times.\"\n",
        "\n",
        "For a 95% confidence interval and a normal(-ish) distribution, you can simply remember that +/-2 standard deviations contains 95% of the probability mass, and so the 95% confidence interval based on a given sample is centered at the mean (point estimate) and has a range of +/- 2 (or technically 1.96) standard deviations.\n",
        "\n",
        "Different distributions/assumptions (90% confidence, 99% confidence) will require different math, but the overall process and interpretation (with a frequentist approach) will be the same.\n",
        "\n",
        "Your assignment - using the data from the prior module ([congressional voting records](https://archive.ics.uci.edu/ml/datasets/Congressional+Voting+Records)):\n"
      ]
    },
    {
      "cell_type": "markdown",
      "metadata": {
        "id": "zdltOd1k3rp6",
        "colab_type": "text"
      },
      "source": [
        "### Confidence Intervals:\n",
        "1. Generate and numerically represent a confidence interval\n",
        "2. Graphically (with a plot) represent the confidence interval\n",
        "3. Interpret the confidence interval - what does it tell you about the data and its distribution?"
      ]
    },
    {
      "cell_type": "code",
      "metadata": {
        "id": "h7x-FN6O5Pbx",
        "colab_type": "code",
        "colab": {
          "base_uri": "https://localhost:8080/",
          "height": 182
        },
        "outputId": "e16dc27d-0121-4617-fc44-40d5a95716e8"
      },
      "source": [
        "##### LOAD DATA\n",
        "\n",
        "import pandas as pd\n",
        "import numpy as np\n",
        "\n",
        "votes = pd.read_csv('https://archive.ics.uci.edu/ml/machine-learning-databases/voting-records/house-votes-84.data'\n",
        "                    , header=None\n",
        "                    , index_col = False\n",
        "                    , names=['party'\n",
        "    , 'handicapped-infants'\n",
        "    , 'water-project'\n",
        "    , 'adoption-of-budget'\n",
        "    , 'physician-fee-freeze'\n",
        "    , 'el-salvador-aid'\n",
        "    , 'religious-groups-in-schools'\n",
        "    , 'anti-satellite-test-ban'\n",
        "    , 'aid-to-nicaraguan-contras'\n",
        "    , 'mx-missile'\n",
        "    , 'immigration'\n",
        "    , 'synfuels-corporation-cutback'\n",
        "    , 'education-spending'\n",
        "    , 'superfund-right-to-sue'\n",
        "    , 'crime'\n",
        "    , 'duty-free-exports'\n",
        "    , 'export-administration-act'])\n",
        "\n",
        "new_vals = {'y': 1, 'n': 0, '?': None}\n",
        "votes = votes.replace(new_vals)\n",
        "\n",
        "votes.head()\n",
        "\n",
        "print(votes.shape)\n",
        "votes.head(2)"
      ],
      "execution_count": 512,
      "outputs": [
        {
          "output_type": "stream",
          "text": [
            "(435, 17)\n"
          ],
          "name": "stdout"
        },
        {
          "output_type": "execute_result",
          "data": {
            "text/html": [
              "<div>\n",
              "<style scoped>\n",
              "    .dataframe tbody tr th:only-of-type {\n",
              "        vertical-align: middle;\n",
              "    }\n",
              "\n",
              "    .dataframe tbody tr th {\n",
              "        vertical-align: top;\n",
              "    }\n",
              "\n",
              "    .dataframe thead th {\n",
              "        text-align: right;\n",
              "    }\n",
              "</style>\n",
              "<table border=\"1\" class=\"dataframe\">\n",
              "  <thead>\n",
              "    <tr style=\"text-align: right;\">\n",
              "      <th></th>\n",
              "      <th>party</th>\n",
              "      <th>handicapped-infants</th>\n",
              "      <th>water-project</th>\n",
              "      <th>adoption-of-budget</th>\n",
              "      <th>physician-fee-freeze</th>\n",
              "      <th>el-salvador-aid</th>\n",
              "      <th>religious-groups-in-schools</th>\n",
              "      <th>anti-satellite-test-ban</th>\n",
              "      <th>aid-to-nicaraguan-contras</th>\n",
              "      <th>mx-missile</th>\n",
              "      <th>immigration</th>\n",
              "      <th>synfuels-corporation-cutback</th>\n",
              "      <th>education-spending</th>\n",
              "      <th>superfund-right-to-sue</th>\n",
              "      <th>crime</th>\n",
              "      <th>duty-free-exports</th>\n",
              "      <th>export-administration-act</th>\n",
              "    </tr>\n",
              "  </thead>\n",
              "  <tbody>\n",
              "    <tr>\n",
              "      <th>0</th>\n",
              "      <td>republican</td>\n",
              "      <td>0.0</td>\n",
              "      <td>1.0</td>\n",
              "      <td>0.0</td>\n",
              "      <td>1.0</td>\n",
              "      <td>1.0</td>\n",
              "      <td>1.0</td>\n",
              "      <td>0.0</td>\n",
              "      <td>0.0</td>\n",
              "      <td>0.0</td>\n",
              "      <td>1.0</td>\n",
              "      <td>NaN</td>\n",
              "      <td>1.0</td>\n",
              "      <td>1.0</td>\n",
              "      <td>1.0</td>\n",
              "      <td>0.0</td>\n",
              "      <td>1.0</td>\n",
              "    </tr>\n",
              "    <tr>\n",
              "      <th>1</th>\n",
              "      <td>republican</td>\n",
              "      <td>0.0</td>\n",
              "      <td>1.0</td>\n",
              "      <td>0.0</td>\n",
              "      <td>1.0</td>\n",
              "      <td>1.0</td>\n",
              "      <td>1.0</td>\n",
              "      <td>0.0</td>\n",
              "      <td>0.0</td>\n",
              "      <td>0.0</td>\n",
              "      <td>0.0</td>\n",
              "      <td>0.0</td>\n",
              "      <td>1.0</td>\n",
              "      <td>1.0</td>\n",
              "      <td>1.0</td>\n",
              "      <td>0.0</td>\n",
              "      <td>NaN</td>\n",
              "    </tr>\n",
              "  </tbody>\n",
              "</table>\n",
              "</div>"
            ],
            "text/plain": [
              "        party  ...  export-administration-act\n",
              "0  republican  ...                        1.0\n",
              "1  republican  ...                        NaN\n",
              "\n",
              "[2 rows x 17 columns]"
            ]
          },
          "metadata": {
            "tags": []
          },
          "execution_count": 512
        }
      ]
    },
    {
      "cell_type": "markdown",
      "metadata": {
        "id": "2Bn_TFtJ9UOv",
        "colab_type": "text"
      },
      "source": [
        "I'm going to focus first on the `religious-groups-in-schools` column, selecting a sample of republican votes on the issue, calculating the mean, and identifying the confidence interval of that sample mean."
      ]
    },
    {
      "cell_type": "code",
      "metadata": {
        "colab_type": "code",
        "outputId": "6da4c01c-09b7-45a4-b600-b6ac9cfd3b64",
        "id": "z5uUfgcA-w6t",
        "colab": {
          "base_uri": "https://localhost:8080/",
          "height": 34
        }
      },
      "source": [
        "# CREATE SAMPLE MEAN\n",
        "rep_rel_sample = (votes['religious-groups-in-schools'][votes['party'] == 'republican']\n",
        "                  .dropna()\n",
        "                  .sample(30)\n",
        "                 )\n",
        "sample_mean = rep_rel_sample.mean()\n",
        "sample_mean"
      ],
      "execution_count": 296,
      "outputs": [
        {
          "output_type": "execute_result",
          "data": {
            "text/plain": [
              "0.9333333333333333"
            ]
          },
          "metadata": {
            "tags": []
          },
          "execution_count": 296
        }
      ]
    },
    {
      "cell_type": "code",
      "metadata": {
        "id": "a8gzORhD_lnx",
        "colab_type": "code",
        "colab": {
          "base_uri": "https://localhost:8080/",
          "height": 34
        },
        "outputId": "4f3ecfaa-1682-4559-8df4-5e8be9b75ec7"
      },
      "source": [
        "# CALC STD ERROR\n",
        "sample_std = np.std(rep_rel_sample)\n",
        "sample_size = len(rep_rel_sample)\n",
        "\n",
        "std_error = sample_std / np.sqrt(sample_size)\n",
        "std_error"
      ],
      "execution_count": 297,
      "outputs": [
        {
          "output_type": "execute_result",
          "data": {
            "text/plain": [
              "0.04554200340426489"
            ]
          },
          "metadata": {
            "tags": []
          },
          "execution_count": 297
        }
      ]
    },
    {
      "cell_type": "code",
      "metadata": {
        "id": "AQoxbHdsBcW4",
        "colab_type": "code",
        "colab": {
          "base_uri": "https://localhost:8080/",
          "height": 51
        },
        "outputId": "e0ff83c3-e772-40b9-ec85-4cb5432c5073"
      },
      "source": [
        "# CALC CONFIDENCE INTERVAL\n",
        "\n",
        "t = stats.t.ppf(.975, sample_size-1)\n",
        "\n",
        "confidence_interval = (sample_mean - t * std_error, sample_mean + t * std_error)\n",
        "print('Sample Mean: ', sample_mean)\n",
        "print('Confidence Interval: ', confidence_interval)"
      ],
      "execution_count": 298,
      "outputs": [
        {
          "output_type": "stream",
          "text": [
            "Sample Mean:  0.9333333333333333\n",
            "Confidence Interval:  (0.8401894780088224, 1.0264771886578443)\n"
          ],
          "name": "stdout"
        }
      ]
    },
    {
      "cell_type": "code",
      "metadata": {
        "id": "rFaIfrz3N0CM",
        "colab_type": "code",
        "colab": {
          "base_uri": "https://localhost:8080/",
          "height": 269
        },
        "outputId": "1a0d15b7-b6e3-436a-b1d6-1cdf4de2f1b1"
      },
      "source": [
        "sns.kdeplot(rep_rel_sample)\n",
        "plt.axvline(x=sample_mean, color='k')\n",
        "plt.axvline(x=confidence_interval[0], color='r')\n",
        "plt.axvline(x=confidence_interval[1], color='r')\n",
        "plt.show()"
      ],
      "execution_count": 299,
      "outputs": [
        {
          "output_type": "display_data",
          "data": {
            "image/png": "[encoded data removed]",
            "text/plain": [
              "<Figure size 432x288 with 1 Axes>"
            ]
          },
          "metadata": {
            "tags": []
          }
        }
      ]
    },
    {
      "cell_type": "code",
      "metadata": {
        "id": "Um3JlJznPT8f",
        "colab_type": "code",
        "colab": {
          "base_uri": "https://localhost:8080/",
          "height": 34
        },
        "outputId": "a74b5d92-e0a8-416c-b5dc-a11aeeaa5226"
      },
      "source": [
        "votes['religious-groups-in-schools'][votes['party'] == 'republican'].mean()"
      ],
      "execution_count": 300,
      "outputs": [
        {
          "output_type": "execute_result",
          "data": {
            "text/plain": [
              "0.8975903614457831"
            ]
          },
          "metadata": {
            "tags": []
          },
          "execution_count": 300
        }
      ]
    },
    {
      "cell_type": "markdown",
      "metadata": {
        "id": "d5JJb6DDPL2w",
        "colab_type": "text"
      },
      "source": [
        "#### Interpretation\n",
        "\n",
        "I *think* this is what it means: I can be **95% confident** that the **interval** (0.74, 0.99) contains the population mean, or in this case, the mean value of all republican votes.\n",
        "\n",
        "I want to try this again with re-sampled distributions."
      ]
    },
    {
      "cell_type": "code",
      "metadata": {
        "id": "B9WOeQkFRBvU",
        "colab_type": "code",
        "colab": {
          "base_uri": "https://localhost:8080/",
          "height": 303
        },
        "outputId": "9afd089f-b03d-4ff4-df0b-31786b82c268"
      },
      "source": [
        "# CREATE DIST OF MEANS\n",
        "\n",
        "rep_vote_means = []\n",
        "\n",
        "for i in range(100):\n",
        "        rep_vote_means.append(votes['religious-groups-in-schools']\n",
        "                              [votes['party'] == 'republican']\n",
        "                              .sample(30)\n",
        "                              .mean())\n",
        "        \n",
        "# STD ERROR\n",
        "sample_mean = pd.Series(rep_vote_means).mean()\n",
        "sample_std = np.std(rep_vote_means)\n",
        "sample_size = len(rep_vote_means)\n",
        "std_error = sample_std / np.sqrt(sample_size)\n",
        "\n",
        "# CONFIDENCE INTERVAL\n",
        "t = stats.t.ppf(.975, sample_size-1)\n",
        "conf_int = (sample_mean - t * std_error, sample_mean + t * std_error)\n",
        "\n",
        "#DISPLAY\n",
        "print('Sample Mean: ', sample_mean)\n",
        "print('Confidence Interval: ', conf_int)\n",
        "sns.kdeplot(rep_vote_means)\n",
        "plt.axvline(x=sample_mean, color='k')\n",
        "plt.axvline(x=conf_int[0], color='r')\n",
        "plt.axvline(x=conf_int[1], color='r');"
      ],
      "execution_count": 305,
      "outputs": [
        {
          "output_type": "stream",
          "text": [
            "Sample Mean:  0.8840944170771756\n",
            "Confidence Interval:  (0.872929627157286, 0.8952592069970653)\n"
          ],
          "name": "stdout"
        },
        {
          "output_type": "display_data",
          "data": {
            "image/png": "[encoded data removed]",
            "text/plain": [
              "<Figure size 432x288 with 1 Axes>"
            ]
          },
          "metadata": {
            "tags": []
          }
        }
      ]
    },
    {
      "cell_type": "markdown",
      "metadata": {
        "id": "s9ghINR6UJ25",
        "colab_type": "text"
      },
      "source": [
        "Here we see that the confidence interval is much tighter because I took a distribution of sample means (pretty sure this is bootstrapping ?)"
      ]
    },
    {
      "cell_type": "markdown",
      "metadata": {
        "id": "e7t42BEV5H6P",
        "colab_type": "text"
      },
      "source": [
        "### Chi-squared tests:\n",
        "4. Take a dataset that we have used in the past in class that has **categorical** variables. Pick two of those categorical variables and run a chi-squared tests on that data\n",
        "  - By hand using Numpy\n",
        "  - In a single line using Scipy"
      ]
    },
    {
      "cell_type": "code",
      "metadata": {
        "id": "cs6qC7fmYt7J",
        "colab_type": "code",
        "colab": {
          "base_uri": "https://localhost:8080/",
          "height": 306
        },
        "outputId": "79b0c314-3444-4c52-d496-0dc90820dc56"
      },
      "source": [
        "# LOAD DATA\n",
        "\n",
        "ppl = pd.read_csv('https://raw.githubusercontent.com/ryanleeallred/datasets/master/adult.csv', na_values=\" ?\")\n",
        "ppl['education'].value_counts()"
      ],
      "execution_count": 509,
      "outputs": [
        {
          "output_type": "execute_result",
          "data": {
            "text/plain": [
              " HS-grad         10501\n",
              " Some-college     7291\n",
              " Bachelors        5355\n",
              " Masters          1723\n",
              " Assoc-voc        1382\n",
              " 11th             1175\n",
              " Assoc-acdm       1067\n",
              " 10th              933\n",
              " 7th-8th           646\n",
              " Prof-school       576\n",
              " 9th               514\n",
              " 12th              433\n",
              " Doctorate         413\n",
              " 5th-6th           333\n",
              " 1st-4th           168\n",
              " Preschool          51\n",
              "Name: education, dtype: int64"
            ]
          },
          "metadata": {
            "tags": []
          },
          "execution_count": 509
        }
      ]
    },
    {
      "cell_type": "code",
      "metadata": {
        "id": "0gh2adVJaGLt",
        "colab_type": "code",
        "colab": {
          "base_uri": "https://localhost:8080/",
          "height": 306
        },
        "outputId": "10d9b8e8-7c2a-44f6-a2c0-b153099f8ee0"
      },
      "source": [
        "# PREPARE DATA\n",
        "\n",
        "school_map = dict.fromkeys([' Preschool', ' 1st-4th', ' 5th-6th', ' 7th-8th'\n",
        "                            , ' 9th', ' 10th', ' 11th', ' 12th', ' HS-grad'], ' K12')\n",
        "ppl['education'] = ppl['education'].replace(school_map)\n",
        "\n",
        "ppl.head()"
      ],
      "execution_count": 510,
      "outputs": [
        {
          "output_type": "execute_result",
          "data": {
            "text/html": [
              "<div>\n",
              "<style scoped>\n",
              "    .dataframe tbody tr th:only-of-type {\n",
              "        vertical-align: middle;\n",
              "    }\n",
              "\n",
              "    .dataframe tbody tr th {\n",
              "        vertical-align: top;\n",
              "    }\n",
              "\n",
              "    .dataframe thead th {\n",
              "        text-align: right;\n",
              "    }\n",
              "</style>\n",
              "<table border=\"1\" class=\"dataframe\">\n",
              "  <thead>\n",
              "    <tr style=\"text-align: right;\">\n",
              "      <th></th>\n",
              "      <th>age</th>\n",
              "      <th>workclass</th>\n",
              "      <th>fnlwgt</th>\n",
              "      <th>education</th>\n",
              "      <th>education-num</th>\n",
              "      <th>marital-status</th>\n",
              "      <th>occupation</th>\n",
              "      <th>relationship</th>\n",
              "      <th>race</th>\n",
              "      <th>sex</th>\n",
              "      <th>capital-gain</th>\n",
              "      <th>capital-loss</th>\n",
              "      <th>hours-per-week</th>\n",
              "      <th>country</th>\n",
              "      <th>salary</th>\n",
              "    </tr>\n",
              "  </thead>\n",
              "  <tbody>\n",
              "    <tr>\n",
              "      <th>0</th>\n",
              "      <td>39</td>\n",
              "      <td>State-gov</td>\n",
              "      <td>77516</td>\n",
              "      <td>Bachelors</td>\n",
              "      <td>13</td>\n",
              "      <td>Never-married</td>\n",
              "      <td>Adm-clerical</td>\n",
              "      <td>Not-in-family</td>\n",
              "      <td>White</td>\n",
              "      <td>Male</td>\n",
              "      <td>2174</td>\n",
              "      <td>0</td>\n",
              "      <td>40</td>\n",
              "      <td>United-States</td>\n",
              "      <td>&lt;=50K</td>\n",
              "    </tr>\n",
              "    <tr>\n",
              "      <th>1</th>\n",
              "      <td>50</td>\n",
              "      <td>Self-emp-not-inc</td>\n",
              "      <td>83311</td>\n",
              "      <td>Bachelors</td>\n",
              "      <td>13</td>\n",
              "      <td>Married-civ-spouse</td>\n",
              "      <td>Exec-managerial</td>\n",
              "      <td>Husband</td>\n",
              "      <td>White</td>\n",
              "      <td>Male</td>\n",
              "      <td>0</td>\n",
              "      <td>0</td>\n",
              "      <td>13</td>\n",
              "      <td>United-States</td>\n",
              "      <td>&lt;=50K</td>\n",
              "    </tr>\n",
              "    <tr>\n",
              "      <th>2</th>\n",
              "      <td>38</td>\n",
              "      <td>Private</td>\n",
              "      <td>215646</td>\n",
              "      <td>K12</td>\n",
              "      <td>9</td>\n",
              "      <td>Divorced</td>\n",
              "      <td>Handlers-cleaners</td>\n",
              "      <td>Not-in-family</td>\n",
              "      <td>White</td>\n",
              "      <td>Male</td>\n",
              "      <td>0</td>\n",
              "      <td>0</td>\n",
              "      <td>40</td>\n",
              "      <td>United-States</td>\n",
              "      <td>&lt;=50K</td>\n",
              "    </tr>\n",
              "    <tr>\n",
              "      <th>3</th>\n",
              "      <td>53</td>\n",
              "      <td>Private</td>\n",
              "      <td>234721</td>\n",
              "      <td>K12</td>\n",
              "      <td>7</td>\n",
              "      <td>Married-civ-spouse</td>\n",
              "      <td>Handlers-cleaners</td>\n",
              "      <td>Husband</td>\n",
              "      <td>Black</td>\n",
              "      <td>Male</td>\n",
              "      <td>0</td>\n",
              "      <td>0</td>\n",
              "      <td>40</td>\n",
              "      <td>United-States</td>\n",
              "      <td>&lt;=50K</td>\n",
              "    </tr>\n",
              "    <tr>\n",
              "      <th>4</th>\n",
              "      <td>28</td>\n",
              "      <td>Private</td>\n",
              "      <td>338409</td>\n",
              "      <td>Bachelors</td>\n",
              "      <td>13</td>\n",
              "      <td>Married-civ-spouse</td>\n",
              "      <td>Prof-specialty</td>\n",
              "      <td>Wife</td>\n",
              "      <td>Black</td>\n",
              "      <td>Female</td>\n",
              "      <td>0</td>\n",
              "      <td>0</td>\n",
              "      <td>40</td>\n",
              "      <td>Cuba</td>\n",
              "      <td>&lt;=50K</td>\n",
              "    </tr>\n",
              "  </tbody>\n",
              "</table>\n",
              "</div>"
            ],
            "text/plain": [
              "   age          workclass  fnlwgt  ... hours-per-week         country  salary\n",
              "0   39          State-gov   77516  ...             40   United-States   <=50K\n",
              "1   50   Self-emp-not-inc   83311  ...             13   United-States   <=50K\n",
              "2   38            Private  215646  ...             40   United-States   <=50K\n",
              "3   53            Private  234721  ...             40   United-States   <=50K\n",
              "4   28            Private  338409  ...             40            Cuba   <=50K\n",
              "\n",
              "[5 rows x 15 columns]"
            ]
          },
          "metadata": {
            "tags": []
          },
          "execution_count": 510
        }
      ]
    },
    {
      "cell_type": "code",
      "metadata": {
        "id": "mlGf9FUUPKuW",
        "colab_type": "code",
        "colab": {
          "base_uri": "https://localhost:8080/",
          "height": 430
        },
        "outputId": "78e0b23b-8e70-40a2-b9af-3ca41d127a79"
      },
      "source": [
        "# BY HAND\n",
        "\n",
        "edu_occ = pd.crosstab(ppl['education'], ppl['occupation'], margins=True)\n",
        "edu_occ"
      ],
      "execution_count": 511,
      "outputs": [
        {
          "output_type": "execute_result",
          "data": {
            "text/html": [
              "<div>\n",
              "<style scoped>\n",
              "    .dataframe tbody tr th:only-of-type {\n",
              "        vertical-align: middle;\n",
              "    }\n",
              "\n",
              "    .dataframe tbody tr th {\n",
              "        vertical-align: top;\n",
              "    }\n",
              "\n",
              "    .dataframe thead th {\n",
              "        text-align: right;\n",
              "    }\n",
              "</style>\n",
              "<table border=\"1\" class=\"dataframe\">\n",
              "  <thead>\n",
              "    <tr style=\"text-align: right;\">\n",
              "      <th>occupation</th>\n",
              "      <th>Adm-clerical</th>\n",
              "      <th>Armed-Forces</th>\n",
              "      <th>Craft-repair</th>\n",
              "      <th>Exec-managerial</th>\n",
              "      <th>Farming-fishing</th>\n",
              "      <th>Handlers-cleaners</th>\n",
              "      <th>Machine-op-inspct</th>\n",
              "      <th>Other-service</th>\n",
              "      <th>Priv-house-serv</th>\n",
              "      <th>Prof-specialty</th>\n",
              "      <th>Protective-serv</th>\n",
              "      <th>Sales</th>\n",
              "      <th>Tech-support</th>\n",
              "      <th>Transport-moving</th>\n",
              "      <th>All</th>\n",
              "    </tr>\n",
              "    <tr>\n",
              "      <th>education</th>\n",
              "      <th></th>\n",
              "      <th></th>\n",
              "      <th></th>\n",
              "      <th></th>\n",
              "      <th></th>\n",
              "      <th></th>\n",
              "      <th></th>\n",
              "      <th></th>\n",
              "      <th></th>\n",
              "      <th></th>\n",
              "      <th></th>\n",
              "      <th></th>\n",
              "      <th></th>\n",
              "      <th></th>\n",
              "      <th></th>\n",
              "    </tr>\n",
              "  </thead>\n",
              "  <tbody>\n",
              "    <tr>\n",
              "      <th>Assoc-acdm</th>\n",
              "      <td>193</td>\n",
              "      <td>0</td>\n",
              "      <td>115</td>\n",
              "      <td>145</td>\n",
              "      <td>14</td>\n",
              "      <td>24</td>\n",
              "      <td>33</td>\n",
              "      <td>78</td>\n",
              "      <td>2</td>\n",
              "      <td>138</td>\n",
              "      <td>34</td>\n",
              "      <td>144</td>\n",
              "      <td>73</td>\n",
              "      <td>27</td>\n",
              "      <td>1020</td>\n",
              "    </tr>\n",
              "    <tr>\n",
              "      <th>Assoc-voc</th>\n",
              "      <td>167</td>\n",
              "      <td>0</td>\n",
              "      <td>252</td>\n",
              "      <td>150</td>\n",
              "      <td>52</td>\n",
              "      <td>28</td>\n",
              "      <td>63</td>\n",
              "      <td>115</td>\n",
              "      <td>4</td>\n",
              "      <td>170</td>\n",
              "      <td>48</td>\n",
              "      <td>106</td>\n",
              "      <td>126</td>\n",
              "      <td>40</td>\n",
              "      <td>1321</td>\n",
              "    </tr>\n",
              "    <tr>\n",
              "      <th>Bachelors</th>\n",
              "      <td>506</td>\n",
              "      <td>1</td>\n",
              "      <td>226</td>\n",
              "      <td>1369</td>\n",
              "      <td>77</td>\n",
              "      <td>50</td>\n",
              "      <td>69</td>\n",
              "      <td>181</td>\n",
              "      <td>7</td>\n",
              "      <td>1495</td>\n",
              "      <td>100</td>\n",
              "      <td>809</td>\n",
              "      <td>230</td>\n",
              "      <td>62</td>\n",
              "      <td>5182</td>\n",
              "    </tr>\n",
              "    <tr>\n",
              "      <th>Doctorate</th>\n",
              "      <td>5</td>\n",
              "      <td>0</td>\n",
              "      <td>2</td>\n",
              "      <td>55</td>\n",
              "      <td>1</td>\n",
              "      <td>0</td>\n",
              "      <td>1</td>\n",
              "      <td>1</td>\n",
              "      <td>0</td>\n",
              "      <td>321</td>\n",
              "      <td>0</td>\n",
              "      <td>8</td>\n",
              "      <td>3</td>\n",
              "      <td>1</td>\n",
              "      <td>398</td>\n",
              "    </tr>\n",
              "    <tr>\n",
              "      <th>K12</th>\n",
              "      <td>1541</td>\n",
              "      <td>5</td>\n",
              "      <td>2607</td>\n",
              "      <td>915</td>\n",
              "      <td>662</td>\n",
              "      <td>996</td>\n",
              "      <td>1517</td>\n",
              "      <td>2116</td>\n",
              "      <td>119</td>\n",
              "      <td>290</td>\n",
              "      <td>249</td>\n",
              "      <td>1422</td>\n",
              "      <td>179</td>\n",
              "      <td>1171</td>\n",
              "      <td>13789</td>\n",
              "    </tr>\n",
              "    <tr>\n",
              "      <th>Masters</th>\n",
              "      <td>68</td>\n",
              "      <td>1</td>\n",
              "      <td>22</td>\n",
              "      <td>501</td>\n",
              "      <td>10</td>\n",
              "      <td>5</td>\n",
              "      <td>8</td>\n",
              "      <td>19</td>\n",
              "      <td>1</td>\n",
              "      <td>844</td>\n",
              "      <td>15</td>\n",
              "      <td>134</td>\n",
              "      <td>37</td>\n",
              "      <td>10</td>\n",
              "      <td>1675</td>\n",
              "    </tr>\n",
              "    <tr>\n",
              "      <th>Prof-school</th>\n",
              "      <td>9</td>\n",
              "      <td>0</td>\n",
              "      <td>7</td>\n",
              "      <td>52</td>\n",
              "      <td>4</td>\n",
              "      <td>0</td>\n",
              "      <td>1</td>\n",
              "      <td>4</td>\n",
              "      <td>0</td>\n",
              "      <td>452</td>\n",
              "      <td>1</td>\n",
              "      <td>18</td>\n",
              "      <td>7</td>\n",
              "      <td>3</td>\n",
              "      <td>558</td>\n",
              "    </tr>\n",
              "    <tr>\n",
              "      <th>Some-college</th>\n",
              "      <td>1281</td>\n",
              "      <td>2</td>\n",
              "      <td>868</td>\n",
              "      <td>879</td>\n",
              "      <td>174</td>\n",
              "      <td>267</td>\n",
              "      <td>310</td>\n",
              "      <td>781</td>\n",
              "      <td>16</td>\n",
              "      <td>430</td>\n",
              "      <td>202</td>\n",
              "      <td>1009</td>\n",
              "      <td>273</td>\n",
              "      <td>283</td>\n",
              "      <td>6775</td>\n",
              "    </tr>\n",
              "    <tr>\n",
              "      <th>All</th>\n",
              "      <td>3770</td>\n",
              "      <td>9</td>\n",
              "      <td>4099</td>\n",
              "      <td>4066</td>\n",
              "      <td>994</td>\n",
              "      <td>1370</td>\n",
              "      <td>2002</td>\n",
              "      <td>3295</td>\n",
              "      <td>149</td>\n",
              "      <td>4140</td>\n",
              "      <td>649</td>\n",
              "      <td>3650</td>\n",
              "      <td>928</td>\n",
              "      <td>1597</td>\n",
              "      <td>30718</td>\n",
              "    </tr>\n",
              "  </tbody>\n",
              "</table>\n",
              "</div>"
            ],
            "text/plain": [
              "occupation      Adm-clerical   Armed-Forces  ...   Transport-moving    All\n",
              "education                                    ...                          \n",
              " Assoc-acdm              193              0  ...                 27   1020\n",
              " Assoc-voc               167              0  ...                 40   1321\n",
              " Bachelors               506              1  ...                 62   5182\n",
              " Doctorate                 5              0  ...                  1    398\n",
              " K12                    1541              5  ...               1171  13789\n",
              " Masters                  68              1  ...                 10   1675\n",
              " Prof-school               9              0  ...                  3    558\n",
              " Some-college           1281              2  ...                283   6775\n",
              "All                     3770              9  ...               1597  30718\n",
              "\n",
              "[9 rows x 15 columns]"
            ]
          },
          "metadata": {
            "tags": []
          },
          "execution_count": 511
        }
      ]
    },
    {
      "cell_type": "code",
      "metadata": {
        "id": "KfS-JBVSw6Hc",
        "colab_type": "code",
        "colab": {
          "base_uri": "https://localhost:8080/",
          "height": 306
        },
        "outputId": "4a9c3a28-5dec-4ffb-a221-d5ed4902dc12"
      },
      "source": [
        "# Identify totals\n",
        "row_sums = edu_occ.iloc[0:8, 14].values\n",
        "col_sums = edu_occ.iloc[8, 0:14].values\n",
        "total = edu_occ.loc['All', 'All']\n",
        "print(total)\n",
        "\n",
        "# Calc expected values\n",
        "expected = []\n",
        "for i in range(len(row_sums)):\n",
        "    expected_row = []\n",
        "    for col in col_sums:\n",
        "        expected_val = col * (row_sums[i] / total)\n",
        "        expected_row.append(expected_val)\n",
        "    expected.append(expected_row)\n",
        "\n",
        "# Create array\n",
        "np.set_printoptions(suppress=True, precision=1)\n",
        "expected = np.array(expected)\n",
        "expected"
      ],
      "execution_count": 535,
      "outputs": [
        {
          "output_type": "stream",
          "text": [
            "30718\n"
          ],
          "name": "stdout"
        },
        {
          "output_type": "execute_result",
          "data": {
            "text/plain": [
              "array([[ 125.2,    0.3,  136.1,  135. ,   33. ,   45.5,   66.5,  109.4,\n",
              "           4.9,  137.5,   21.6,  121.2,   30.8,   53. ],\n",
              "       [ 162.1,    0.4,  176.3,  174.9,   42.7,   58.9,   86.1,  141.7,\n",
              "           6.4,  178. ,   27.9,  157. ,   39.9,   68.7],\n",
              "       [ 636. ,    1.5,  691.5,  685.9,  167.7,  231.1,  337.7,  555.9,\n",
              "          25.1,  698.4,  109.5,  615.7,  156.5,  269.4],\n",
              "       [  48.8,    0.1,   53.1,   52.7,   12.9,   17.8,   25.9,   42.7,\n",
              "           1.9,   53.6,    8.4,   47.3,   12. ,   20.7],\n",
              "       [1692.3,    4. , 1840. , 1825.2,  446.2,  615. ,  898.7, 1479.1,\n",
              "          66.9, 1858.4,  291.3, 1638.4,  416.6,  716.9],\n",
              "       [ 205.6,    0.5,  223.5,  221.7,   54.2,   74.7,  109.2,  179.7,\n",
              "           8.1,  225.7,   35.4,  199. ,   50.6,   87.1],\n",
              "       [  68.5,    0.2,   74.5,   73.9,   18.1,   24.9,   36.4,   59.9,\n",
              "           2.7,   75.2,   11.8,   66.3,   16.9,   29. ],\n",
              "       [ 831.5,    2. ,  904.1,  896.8,  219.2,  302.2,  441.6,  726.7,\n",
              "          32.9,  913.1,  143.1,  805. ,  204.7,  352.2]])"
            ]
          },
          "metadata": {
            "tags": []
          },
          "execution_count": 535
        }
      ]
    },
    {
      "cell_type": "code",
      "metadata": {
        "id": "tIJy13z11DZn",
        "colab_type": "code",
        "colab": {
          "base_uri": "https://localhost:8080/",
          "height": 51
        },
        "outputId": "bc2bac71-dd61-4c5c-8ebe-2d6244086d09"
      },
      "source": [
        "# Chi squared - observed against expected\n",
        "\n",
        "observed = pd.crosstab(ppl['education'], ppl['occupation']).values\n",
        "\n",
        "chi_squared = ((observed - expected)**2 / expected).sum()\n",
        "pval = 1 - stats.chi2.cdf(chi_square, len(edu_occ)) # IS THIS RIGHT?\n",
        "\n",
        "print('CHI2: ', chi_squared)\n",
        "print('PVAL: ', pval)"
      ],
      "execution_count": 560,
      "outputs": [
        {
          "output_type": "stream",
          "text": [
            "CHI2:  14209.429343891208\n",
            "PVAL:  0.0\n"
          ],
          "name": "stdout"
        }
      ]
    },
    {
      "cell_type": "code",
      "metadata": {
        "id": "JCaBDB2H5Oth",
        "colab_type": "code",
        "colab": {
          "base_uri": "https://localhost:8080/",
          "height": 51
        },
        "outputId": "d36c966f-2c89-43f3-c3f3-62b72f19faca"
      },
      "source": [
        "# SCIPY\n",
        "\n",
        "chi_squared, pval, dof, expected = stats.chi2_contingency(observed)\n",
        "\n",
        "print('CHI2: ', chi_squared)\n",
        "print('PVAL: ', pval)"
      ],
      "execution_count": 561,
      "outputs": [
        {
          "output_type": "stream",
          "text": [
            "CHI2:  14209.429343891208\n",
            "PVAL:  0.0\n"
          ],
          "name": "stdout"
        }
      ]
    },
    {
      "cell_type": "markdown",
      "metadata": {
        "id": "vCkcPFiX5Kz5",
        "colab_type": "text"
      },
      "source": [
        "### Stretch goals:\n",
        "\n",
        "1. Write a summary of your findings, mixing prose and math/code/results. *Note* - yes, this is by definition a political topic. It is challenging but important to keep your writing voice *neutral* and stick to the facts of the data. Data science often involves considering controversial issues, so it's important to be sensitive about them (especially if you want to publish).\n",
        "2. Apply the techniques you learned today to your project data or other data of your choice, and write/discuss your findings here.\n",
        "3. Refactor your code so it is elegant, readable, and can be easily run for all issues."
      ]
    },
    {
      "cell_type": "code",
      "metadata": {
        "id": "Ckcr4A4FM7cs",
        "colab_type": "code",
        "colab": {}
      },
      "source": [
        ""
      ],
      "execution_count": 0,
      "outputs": []
    },
    {
      "cell_type": "markdown",
      "metadata": {
        "id": "nyJ3ySr7R2k9",
        "colab_type": "text"
      },
      "source": [
        "## Resources\n",
        "\n",
        "- [Interactive visualize the Chi-Squared test](https://homepage.divms.uiowa.edu/~mbognar/applets/chisq.html)\n",
        "- [Calculation of Chi-Squared test statistic](https://en.wikipedia.org/wiki/Pearson%27s_chi-squared_test)\n",
        "- [Visualization of a confidence interval generated by R code](https://commons.wikimedia.org/wiki/File:Confidence-interval.svg)\n",
        "- [Expected value of a squared standard normal](https://math.stackexchange.com/questions/264061/expected-value-calculation-for-squared-normal-distribution) (it's 1 - which is why the expected value of a Chi-Squared with $n$ degrees of freedom is $n$, as it's the sum of $n$ squared standard normals)"
      ]
    }
  ]
}