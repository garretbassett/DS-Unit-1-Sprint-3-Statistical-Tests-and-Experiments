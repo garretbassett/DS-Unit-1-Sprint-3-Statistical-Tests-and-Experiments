{
  "nbformat": 4,
  "nbformat_minor": 0,
  "metadata": {
    "colab": {
      "name": "Garret_Bassett_LS_DS_143_Introduction_to_Bayesian_Inference.ipynb",
      "version": "0.3.2",
      "provenance": [],
      "collapsed_sections": [
        "GhycNr-Sbeie"
      ],
      "include_colab_link": true
    },
    "kernelspec": {
      "name": "python3",
      "display_name": "Python 3"
    }
  },
  "cells": [
    {
      "cell_type": "markdown",
      "metadata": {
        "id": "view-in-github",
        "colab_type": "text"
      },
      "source": [
        "<a href=\"https://colab.research.google.com/github/garretbassett/DS-Unit-1-Sprint-3-Statistical-Tests-and-Experiments/blob/master/module3-introduction-to-bayesian-inference/Garret_Bassett_LS_DS_143_Introduction_to_Bayesian_Inference.ipynb\" target=\"_parent\"><img src=\"https://colab.research.google.com/assets/colab-badge.svg\" alt=\"Open In Colab\"/></a>"
      ]
    },
    {
      "cell_type": "markdown",
      "metadata": {
        "id": "H7OLbevlbd_Z",
        "colab_type": "text"
      },
      "source": [
        "# Lambda School Data Science Module 143\n",
        "\n",
        "## Introduction to Bayesian Inference\n",
        "\n",
        "!['Detector! What would the Bayesian statistician say if I asked him whether the--' [roll] 'I AM A NEUTRINO DETECTOR, NOT A LABYRINTH GUARD. SERIOUSLY, DID YOUR BRAIN FALL OUT?' [roll] '... yes.'](https://imgs.xkcd.com/comics/frequentists_vs_bayesians.png)\n",
        "\n",
        "*[XKCD 1132](https://www.xkcd.com/1132/)*\n"
      ]
    },
    {
      "cell_type": "markdown",
      "metadata": {
        "id": "3mz8p08BsN6p",
        "colab_type": "text"
      },
      "source": [
        "## Prepare - Bayes' Theorem and the Bayesian mindset"
      ]
    },
    {
      "cell_type": "markdown",
      "metadata": {
        "id": "GhycNr-Sbeie",
        "colab_type": "text"
      },
      "source": [
        "Bayes' theorem possesses a near-mythical quality - a bit of math that somehow magically evaluates a situation. But this mythicalness has more to do with its reputation and advanced applications than the actual core of it - deriving it is actually remarkably straightforward.\n",
        "\n",
        "### The Law of Total Probability\n",
        "\n",
        "By definition, the total probability of all outcomes (events) if some variable (event space) $A$ is 1. That is:\n",
        "\n",
        "$$P(A) = \\sum_n P(A_n) = 1$$\n",
        "\n",
        "The law of total probability takes this further, considering two variables ($A$ and $B$) and relating their marginal probabilities (their likelihoods considered independently, without reference to one another) and their conditional probabilities (their likelihoods considered jointly). A marginal probability is simply notated as e.g. $P(A)$, while a conditional probability is notated $P(A|B)$, which reads \"probability of $A$ *given* $B$\".\n",
        "\n",
        "The law of total probability states:\n",
        "\n",
        "$$P(A) = \\sum_n P(A | B_n) P(B_n)$$\n",
        "\n",
        "In words - the total probability of $A$ is equal to the sum of the conditional probability of $A$ on any given event $B_n$ times the probability of that event $B_n$, and summed over all possible events in $B$.\n",
        "\n",
        "### The Law of Conditional Probability\n",
        "\n",
        "What's the probability of something conditioned on something else? To determine this we have to go back to set theory and think about the intersection of sets:\n",
        "\n",
        "The formula for actual calculation:\n",
        "\n",
        "$$P(A|B) = \\frac{P(A \\cap B)}{P(B)}$$\n",
        "\n",
        "![Visualization of set intersection](https://upload.wikimedia.org/wikipedia/commons/9/99/Venn0001.svg)\n",
        "\n",
        "Think of the overall rectangle as the whole probability space, $A$ as the left circle, $B$ as the right circle, and their intersection as the red area. Try to visualize the ratio being described in the above formula, and how it is different from just the $P(A)$ (not conditioned on $B$).\n",
        "\n",
        "We can see how this relates back to the law of total probability - multiply both sides by $P(B)$ and you get $P(A|B)P(B) = P(A \\cap B)$ - replaced back into the law of total probability we get $P(A) = \\sum_n P(A \\cap B_n)$.\n",
        "\n",
        "This may not seem like an improvement at first, but try to relate it back to the above picture - if you think of sets as physical objects, we're saying that the total probability of $A$ given $B$ is all the little pieces of it intersected with $B$, added together. The conditional probability is then just that again, but divided by the probability of $B$ itself happening in the first place.\n",
        "\n",
        "### Bayes Theorem\n",
        "\n",
        "Here is is, the seemingly magic tool:\n",
        "\n",
        "$$P(A|B) = \\frac{P(B|A)P(A)}{P(B)}$$\n",
        "\n",
        "In words - the probability of $A$ conditioned on $B$ is the probability of $B$ conditioned on $A$, times the probability of $A$ and divided by the probability of $B$. These unconditioned probabilities are referred to as \"prior beliefs\", and the conditioned probabilities as \"updated.\"\n",
        "\n",
        "Why is this important? Scroll back up to the XKCD example - the Bayesian statistician draws a less absurd conclusion because their prior belief in the likelihood that the sun will go nova is extremely low. So, even when updated based on evidence from a detector that is $35/36 = 0.972$ accurate, the prior belief doesn't shift enough to change their overall opinion.\n",
        "\n",
        "There's many examples of Bayes' theorem - one less absurd example is to apply to [breathalyzer tests](https://www.bayestheorem.net/breathalyzer-example/). You may think that a breathalyzer test that is 100% accurate for true positives (detecting somebody who is drunk) is pretty good, but what if it also has 8% false positives (indicating somebody is drunk when they're not)? And furthermore, the rate of drunk driving (and thus our prior belief)  is 1/1000.\n",
        "\n",
        "What is the likelihood somebody really is drunk if they test positive? Some may guess it's 92% - the difference between the true positives and the false positives. But we have a prior belief of the background/true rate of drunk driving. Sounds like a job for Bayes' theorem!\n",
        "\n",
        "$$\n",
        "\\begin{aligned}\n",
        "P(Drunk | Positive) &= \\frac{P(Positive | Drunk)P(Drunk)}{P(Positive)} \\\\\n",
        "&= \\frac{1 \\times 0.001}{0.08} \\\\\n",
        "&= 0.0125\n",
        "\\end{aligned}\n",
        "$$\n",
        "\n",
        "In other words, the likelihood that somebody is drunk given they tested positive with a breathalyzer in this situation is only 1.25% - probably much lower than you'd guess. This is why, in practice, it's important to have a repeated test to confirm (the probability of two false positives in a row is $0.08 * 0.08 = 0.0064$, much lower), and Bayes' theorem has been relevant in court cases where proper consideration of evidence was important."
      ]
    },
    {
      "cell_type": "markdown",
      "metadata": {
        "id": "htI3DGvDsRJF",
        "colab_type": "text"
      },
      "source": [
        "## Live Lecture - Deriving Bayes' Theorem, Calculating Bayesian Confidence"
      ]
    },
    {
      "cell_type": "markdown",
      "metadata": {
        "id": "moIJNQ-nbfe_",
        "colab_type": "text"
      },
      "source": [
        "Notice that $P(A|B)$ appears in the above laws - in Bayesian terms, this is the belief in $A$ updated for the evidence $B$. So all we need to do is solve for this term to derive Bayes' theorem. Let's do it together!"
      ]
    },
    {
      "cell_type": "code",
      "metadata": {
        "id": "ke-5EqJI0Tsn",
        "colab_type": "code",
        "colab": {}
      },
      "source": [
        "# Activity 2 - Use SciPy to calculate Bayesian confidence intervals\n",
        "# https://docs.scipy.org/doc/scipy/reference/generated/scipy.stats.bayes_mvs.html#scipy.stats.bayes_mvs"
      ],
      "execution_count": 0,
      "outputs": []
    },
    {
      "cell_type": "code",
      "metadata": {
        "id": "xpVhZyUnbf7o",
        "colab_type": "code",
        "outputId": "9f48c3e2-5342-4ed7-9f7c-7d91804e21ff",
        "colab": {
          "base_uri": "https://localhost:8080/",
          "height": 102
        }
      },
      "source": [
        "from scipy import stats\n",
        "import numpy as np\n",
        "\n",
        "# SET RANDOM SEED\n",
        "np.random.seed(10)\n",
        "\n",
        "coinflips = np.random.binomial(n=1, p=0.5, size=100)\n",
        "coinflips"
      ],
      "execution_count": 16,
      "outputs": [
        {
          "output_type": "execute_result",
          "data": {
            "text/plain": [
              "array([1, 0, 1, 1, 0, 0, 0, 1, 0, 0, 1, 1, 0, 1, 1, 1, 1, 0, 1, 1, 1, 0,\n",
              "       0, 1, 0, 0, 1, 1, 1, 1, 1, 1, 1, 0, 0, 0, 0, 1, 0, 1, 1, 1, 0, 1,\n",
              "       0, 1, 0, 1, 0, 0, 0, 0, 1, 0, 0, 1, 1, 0, 1, 0, 1, 1, 1, 1, 0, 0,\n",
              "       0, 0, 0, 1, 0, 0, 0, 1, 0, 0, 1, 1, 1, 0, 1, 1, 1, 0, 0, 0, 0, 0,\n",
              "       1, 1, 0, 0, 0, 1, 0, 0, 1, 0, 0, 1])"
            ]
          },
          "metadata": {
            "tags": []
          },
          "execution_count": 16
        }
      ]
    },
    {
      "cell_type": "code",
      "metadata": {
        "id": "89j1uI7O--cu",
        "colab_type": "code",
        "outputId": "af52a61e-8e9e-49f2-e472-8601982d680f",
        "colab": {
          "base_uri": "https://localhost:8080/",
          "height": 34
        }
      },
      "source": [
        "def confidence_interval(data, confidence=0.95):\n",
        "    n = len(data)\n",
        "    mean = sum(data) / n\n",
        "    data = np.array(data)\n",
        "    stderr = np.std(data) / np.sqrt(n-1)\n",
        "    # stderr = stats.sem(data)\n",
        "    interval = stderr * stats.t.ppf((1 + confidence) / 2.0, n-1)\n",
        "    return(mean, mean-interval, mean+interval)\n",
        "\n",
        "confidence_interval(coinflips)"
      ],
      "execution_count": 17,
      "outputs": [
        {
          "output_type": "execute_result",
          "data": {
            "text/plain": [
              "(0.49, 0.39030929062808245, 0.5896907093719176)"
            ]
          },
          "metadata": {
            "tags": []
          },
          "execution_count": 17
        }
      ]
    },
    {
      "cell_type": "code",
      "metadata": {
        "id": "c7ggW0GFBAq0",
        "colab_type": "code",
        "outputId": "d6cc555e-63a3-4a75-954f-f5cdb658a99e",
        "colab": {
          "base_uri": "https://localhost:8080/",
          "height": 34
        }
      },
      "source": [
        "bayes_mean, bayes_var, bayes_std = stats.bayes_mvs(coinflips, alpha=0.95)\n",
        "bayes_mean"
      ],
      "execution_count": 18,
      "outputs": [
        {
          "output_type": "execute_result",
          "data": {
            "text/plain": [
              "Mean(statistic=0.49, minmax=(0.3903092906280824, 0.5896907093719176))"
            ]
          },
          "metadata": {
            "tags": []
          },
          "execution_count": 18
        }
      ]
    },
    {
      "cell_type": "markdown",
      "metadata": {
        "id": "5K4Ns1EnDIbV",
        "colab_type": "text"
      },
      "source": [
        "#### Bayesian modeling"
      ]
    },
    {
      "cell_type": "code",
      "metadata": {
        "id": "W4fDEF-pDHVb",
        "colab_type": "code",
        "colab": {}
      },
      "source": [
        "import pandas as pd\n",
        "import matplotlib.pyplot as plt\n",
        "# %matplotlib inline\n",
        "\n",
        "import seaborn as sns\n",
        "plt.style.use('fivethirtyeight')\n",
        "\n",
        "import pymc3 as pm"
      ],
      "execution_count": 0,
      "outputs": []
    },
    {
      "cell_type": "code",
      "metadata": {
        "id": "mIaT1gU-Dckc",
        "colab_type": "code",
        "colab": {}
      },
      "source": [
        "def display_probs(dict):\n",
        "    for key, value in dict.items():\n",
        "        print(f'Species: {key:8} Prevalence: {100*value:.2f}%.')"
      ],
      "execution_count": 0,
      "outputs": []
    },
    {
      "cell_type": "code",
      "metadata": {
        "id": "Egsh4mRBDweN",
        "colab_type": "code",
        "outputId": "4b33fee2-ea2c-4b9e-b25b-0b92f9180777",
        "colab": {
          "base_uri": "https://localhost:8080/",
          "height": 68
        }
      },
      "source": [
        "# OBSERVATIONS\n",
        "\n",
        "animals = ['lions', 'tigers', 'bears']\n",
        "c = np.array([3, 2, 1])\n",
        "\n",
        "# HYPERPARAMETERS\n",
        "\n",
        "alpha = np.array([1, 1, 1])\n",
        "expected = (alpha + c) / (c.sum() + alpha.sum())\n",
        "\n",
        "display_probs(dict(zip(animals, expected)))"
      ],
      "execution_count": 21,
      "outputs": [
        {
          "output_type": "stream",
          "text": [
            "Species: lions    Prevalence: 44.44%.\n",
            "Species: tigers   Prevalence: 33.33%.\n",
            "Species: bears    Prevalence: 22.22%.\n"
          ],
          "name": "stdout"
        }
      ]
    },
    {
      "cell_type": "code",
      "metadata": {
        "id": "n8KCdtGEFH7j",
        "colab_type": "code",
        "outputId": "63c8a7ac-37f4-4d37-f436-c1997d40cf7a",
        "colab": {
          "base_uri": "https://localhost:8080/",
          "height": 173
        }
      },
      "source": [
        "alpha_list = [np.array([0.1,0.1,0.1])\n",
        "             , np.array([1,1,1])\n",
        "             , np.array([5,5,5])\n",
        "             , np.array([15,15,15])\n",
        "             ]\n",
        "\n",
        "values = []\n",
        "for alpha_new in alpha_list:\n",
        "    values.append((alpha_new + c) / (c.sum() + alpha_new.sum()))\n",
        "    \n",
        "value_df = pd.DataFrame(values, columns=animals)\n",
        "value_df['alphas'] = [str(x) for x in alpha_list]\n",
        "value_df"
      ],
      "execution_count": 22,
      "outputs": [
        {
          "output_type": "execute_result",
          "data": {
            "text/html": [
              "<div>\n",
              "<style scoped>\n",
              "    .dataframe tbody tr th:only-of-type {\n",
              "        vertical-align: middle;\n",
              "    }\n",
              "\n",
              "    .dataframe tbody tr th {\n",
              "        vertical-align: top;\n",
              "    }\n",
              "\n",
              "    .dataframe thead th {\n",
              "        text-align: right;\n",
              "    }\n",
              "</style>\n",
              "<table border=\"1\" class=\"dataframe\">\n",
              "  <thead>\n",
              "    <tr style=\"text-align: right;\">\n",
              "      <th></th>\n",
              "      <th>lions</th>\n",
              "      <th>tigers</th>\n",
              "      <th>bears</th>\n",
              "      <th>alphas</th>\n",
              "    </tr>\n",
              "  </thead>\n",
              "  <tbody>\n",
              "    <tr>\n",
              "      <th>0</th>\n",
              "      <td>0.492063</td>\n",
              "      <td>0.333333</td>\n",
              "      <td>0.174603</td>\n",
              "      <td>[0.1 0.1 0.1]</td>\n",
              "    </tr>\n",
              "    <tr>\n",
              "      <th>1</th>\n",
              "      <td>0.444444</td>\n",
              "      <td>0.333333</td>\n",
              "      <td>0.222222</td>\n",
              "      <td>[1 1 1]</td>\n",
              "    </tr>\n",
              "    <tr>\n",
              "      <th>2</th>\n",
              "      <td>0.380952</td>\n",
              "      <td>0.333333</td>\n",
              "      <td>0.285714</td>\n",
              "      <td>[5 5 5]</td>\n",
              "    </tr>\n",
              "    <tr>\n",
              "      <th>3</th>\n",
              "      <td>0.352941</td>\n",
              "      <td>0.333333</td>\n",
              "      <td>0.313725</td>\n",
              "      <td>[15 15 15]</td>\n",
              "    </tr>\n",
              "  </tbody>\n",
              "</table>\n",
              "</div>"
            ],
            "text/plain": [
              "      lions    tigers     bears         alphas\n",
              "0  0.492063  0.333333  0.174603  [0.1 0.1 0.1]\n",
              "1  0.444444  0.333333  0.222222        [1 1 1]\n",
              "2  0.380952  0.333333  0.285714        [5 5 5]\n",
              "3  0.352941  0.333333  0.313725     [15 15 15]"
            ]
          },
          "metadata": {
            "tags": []
          },
          "execution_count": 22
        }
      ]
    },
    {
      "cell_type": "code",
      "metadata": {
        "id": "VwYWXu0vGZfY",
        "colab_type": "code",
        "outputId": "fa4bf8bf-ebc4-47ee-d58b-9b655279ca6b",
        "colab": {
          "base_uri": "https://localhost:8080/",
          "height": 441
        }
      },
      "source": [
        "melted = pd.melt(value_df, id_vars='alphas', value_name='prevalence', var_name='species')\n",
        "\n",
        "plt.figure(figsize=(10,6))\n",
        "sns.barplot(x='alphas', y='prevalence', hue='species', data=melted, edgecolor='k', linewidth=1.5)\n",
        "plt.xticks(size=14)\n",
        "plt.yticks(size=14)\n",
        "plt.title('Expected Value')\n",
        "\n",
        "plt.show()"
      ],
      "execution_count": 23,
      "outputs": [
        {
          "output_type": "display_data",
          "data": {
            "image/png": "[encoded data removed]",
            "text/plain": [
              "<Figure size 720x432 with 1 Axes>"
            ]
          },
          "metadata": {
            "tags": []
          }
        }
      ]
    },
    {
      "cell_type": "code",
      "metadata": {
        "id": "teMoLciTHJPm",
        "colab_type": "code",
        "outputId": "872b8bd0-d56f-4713-fa25-5faf08fef272",
        "colab": {
          "base_uri": "https://localhost:8080/",
          "height": 34
        }
      },
      "source": [
        "with pm.Model() as model:\n",
        "    # Multinomial params are from Dirichlet\n",
        "    parameters = pm.Dirichlet('parameters', a=alpha, shape=3)\n",
        "    \n",
        "    # Observed data from Multinomial dist\n",
        "    observed_data = pm.Multinomial(\n",
        "    'observed_data', n=6, p=parameters, shape=3, observed=c)\n",
        "    \n",
        "model"
      ],
      "execution_count": 24,
      "outputs": [
        {
          "output_type": "execute_result",
          "data": {
            "text/latex": "$$\n            \\begin{array}{rcl}\n            parameters &\\sim & \\text{Dirichlet}(\\mathit{a}=array)\\\\observed_data &\\sim & \\text{Multinomial}(\\mathit{n}=6, \\mathit{p}=f(\\text{parameters},~f(f(\\text{parameters}))))\n            \\end{array}\n            $$",
            "text/plain": [
              "<pymc3.model.Model at 0x7f442af07a20>"
            ]
          },
          "metadata": {
            "tags": []
          },
          "execution_count": 24
        }
      ]
    },
    {
      "cell_type": "code",
      "metadata": {
        "id": "dIpddv5aH54T",
        "colab_type": "code",
        "outputId": "fc2c4b26-b1c6-4417-a38d-8353052a0802",
        "colab": {
          "base_uri": "https://localhost:8080/",
          "height": 119
        }
      },
      "source": [
        "with model:\n",
        "    # Sample from posterior\n",
        "    trace = pm.sample(draws=1000, chains=2, tune=500, discard_tuned_samples=True)"
      ],
      "execution_count": 25,
      "outputs": [
        {
          "output_type": "stream",
          "text": [
            "Auto-assigning NUTS sampler...\n",
            "Initializing NUTS using jitter+adapt_diag...\n",
            "Sequential sampling (2 chains in 1 job)\n",
            "NUTS: [parameters]\n",
            "100%|██████████| 1500/1500 [00:03<00:00, 385.68it/s]\n",
            "100%|██████████| 1500/1500 [00:01<00:00, 1094.68it/s]\n"
          ],
          "name": "stderr"
        }
      ]
    },
    {
      "cell_type": "markdown",
      "metadata": {
        "id": "P-DzzRk5bf0z",
        "colab_type": "text"
      },
      "source": [
        "## Assignment - Code it up!\n",
        "\n",
        "Most of the above was pure math - now write Python code to reproduce the results! This is purposefully open ended - you'll have to think about how you should represent probabilities and events. You can and should look things up, and as a stretch goal - refactor your code into helpful reusable functions!"
      ]
    },
    {
      "cell_type": "markdown",
      "metadata": {
        "id": "5O2u_4_5KT77",
        "colab_type": "text"
      },
      "source": [
        "1. Write a function `def prob_drunk_given_positive(prob_drunk_prior, prob_positive, prob_positive_drunk)` that reproduces the example from lecture, and use it to calculate and visualize a range of situations"
      ]
    },
    {
      "cell_type": "code",
      "metadata": {
        "id": "V2WagoMybph8",
        "colab_type": "code",
        "outputId": "80446f93-b057-4964-cb8c-8453342d4c51",
        "colab": {
          "base_uri": "https://localhost:8080/",
          "height": 187
        }
      },
      "source": [
        "# COMPLEX FUNCTION\n",
        "# Came from Mali - appears to update prior probability after each test\n",
        "\n",
        "def prob_drunk_given_positive(prob_drunk_prior, prob_positive, prob_positive_drunk):\n",
        "    num = 0\n",
        "    prob = []\n",
        "    for i in range (0,10):\n",
        "        prob_drunk_positive = prob_positive_drunk * prob_drunk_prior / (prob_positive_drunk * prob_drunk_prior + (1-prob_drunk_prior)*prob_positive)\n",
        "        prob_drunk_prior = prob_drunk_positive\n",
        "        num +=  1\n",
        "        prob.append(prob_drunk_positive)\n",
        "        print(\"Test\", num,\":\", prob_drunk_positive)\n",
        "\n",
        "prob_drunk_given_positive(.001, .08, 1)"
      ],
      "execution_count": 162,
      "outputs": [
        {
          "output_type": "stream",
          "text": [
            "Test 1 : 0.012357884330202669\n",
            "Test 2 : 0.13525210993291495\n",
            "Test 3 : 0.6615996951348605\n",
            "Test 4 : 0.9606895076105054\n",
            "Test 5 : 0.9967371577896734\n",
            "Test 6 : 0.9997381867081508\n",
            "Test 7 : 0.9999790498904363\n",
            "Test 8 : 0.9999983239589307\n",
            "Test 9 : 0.9999998659165077\n",
            "Test 10 : 0.9999999892733192\n"
          ],
          "name": "stdout"
        }
      ]
    },
    {
      "cell_type": "code",
      "metadata": {
        "id": "MIHeWGLwKNxy",
        "colab_type": "code",
        "outputId": "95c4564f-6faa-4b09-a253-413f4f8432ae",
        "colab": {
          "base_uri": "https://localhost:8080/",
          "height": 34
        }
      },
      "source": [
        "# SIMPLE FUNCTION\n",
        "\n",
        "def prob_drunk_given_positive(prob_drunk_prior, prob_positive, prob_positive_drunk):\n",
        "    prob = (prob_positive_drunk * prob_drunk_prior) / prob_positive\n",
        "    return prob\n",
        "\n",
        "prob_drunk_given_positive(.001, .08, 1)"
      ],
      "execution_count": 103,
      "outputs": [
        {
          "output_type": "execute_result",
          "data": {
            "text/plain": [
              "0.0125"
            ]
          },
          "metadata": {
            "tags": []
          },
          "execution_count": 103
        }
      ]
    },
    {
      "cell_type": "code",
      "metadata": {
        "id": "L2FqJqcXvrm3",
        "colab_type": "code",
        "outputId": "ec2ecca5-2365-453c-d8d6-9690c1fe544d",
        "colab": {
          "base_uri": "https://localhost:8080/",
          "height": 648
        }
      },
      "source": [
        "# VISUALIZE\n",
        "\n",
        "import math\n",
        "\n",
        "xlen = 31\n",
        "ylen = 32\n",
        "prob_pos = .08\n",
        "prob_pos_drunk = 1\n",
        "prob_drunk_prior = .001\n",
        "\n",
        "x = [num for num in range(xlen)]\n",
        "fig,ax = plt.subplots(figsize=(10,10), facecolor=\"white\")\n",
        "\n",
        "x_array = []\n",
        "y_array = []\n",
        "for x in x:\n",
        "    for y in range(ylen):\n",
        "        x_array.append(x)\n",
        "        y_array.append(y)\n",
        "        \n",
        "df = pd.DataFrame(x_array, y_array)\n",
        "\n",
        "for x in ('left', 'right', 'top', 'bottom'):\n",
        "    ax.spines[x].set_visible(False)\n",
        "\n",
        "plt.tick_params(\n",
        "    axis='both',\n",
        "    which='both',\n",
        "    bottom=False,\n",
        "    top=False,\n",
        "    labelbottom=False,\n",
        "    labelleft=False)\n",
        "\n",
        "false_pos = (df.sample(int(xlen*ylen*prob_pos*(1-(prob_drunk_given_positive(prob_drunk_prior, prob_pos, prob_pos_drunk)))))\n",
        "             .reset_index().rename(columns={'index': 'y', 0: 'x'}))\n",
        "\n",
        "true_pos = (df.sample(math.ceil(xlen*ylen*prob_pos*(prob_drunk_given_positive(prob_drunk_prior, prob_pos, prob_pos_drunk))))\n",
        "            .reset_index().rename(columns={'index': 'y', 0: 'x'}))\n",
        "\n",
        "# The true_pos points run the risk of overlapping with false_pos points\n",
        "# The way I can think of to fix it isn't worth the trouble right now\n",
        "\n",
        "ax.set_facecolor('white')\n",
        "ax.scatter(x_array, y_array, alpha=0.25, c=\"darkgray\");\n",
        "ax.scatter(false_pos['x'], false_pos['y'], alpha=0.8, c=\"navy\");\n",
        "ax.scatter(true_pos['x'], true_pos['y'], s=150, c=\"green\");\n",
        "\n",
        "ax.grid(False)\n",
        "plt.show()\n",
        "\n",
        "print('FALSE POSITIVES: ', len(false_pos))\n",
        "print('TRUE POSITIVES: ', len(true_pos))"
      ],
      "execution_count": 30,
      "outputs": [
        {
          "output_type": "display_data",
          "data": {
            "image/png": "[encoded data removed]",
            "text/plain": [
              "<Figure size 720x720 with 1 Axes>"
            ]
          },
          "metadata": {
            "tags": []
          }
        },
        {
          "output_type": "stream",
          "text": [
            "FALSE POSITIVES:  78\n",
            "TRUE POSITIVES:  1\n"
          ],
          "name": "stdout"
        }
      ]
    },
    {
      "cell_type": "markdown",
      "metadata": {
        "id": "6nKZNjzxKUPF",
        "colab_type": "text"
      },
      "source": [
        "2. Explore `scipy.stats.bayes_mvs` - read its documentation, and experiment with it on data you've tested in other ways earlier this week"
      ]
    },
    {
      "cell_type": "code",
      "metadata": {
        "id": "86ZFN1KJAyc1",
        "colab_type": "code",
        "outputId": "a468b7fc-aa8e-4dd2-d108-e2b687d910fb",
        "colab": {
          "base_uri": "https://localhost:8080/",
          "height": 221
        }
      },
      "source": [
        "df = pd.read_csv('https://raw.githubusercontent.com/ryanleeallred/datasets/master/adult.csv', na_values=\" ?\")\n",
        "print(df.shape)\n",
        "df.head()\n",
        "\n",
        "# df.groupby('sex')['hours-per-week'].value_counts()"
      ],
      "execution_count": 70,
      "outputs": [
        {
          "output_type": "stream",
          "text": [
            "(32561, 15)\n"
          ],
          "name": "stdout"
        },
        {
          "output_type": "execute_result",
          "data": {
            "text/html": [
              "<div>\n",
              "<style scoped>\n",
              "    .dataframe tbody tr th:only-of-type {\n",
              "        vertical-align: middle;\n",
              "    }\n",
              "\n",
              "    .dataframe tbody tr th {\n",
              "        vertical-align: top;\n",
              "    }\n",
              "\n",
              "    .dataframe thead th {\n",
              "        text-align: right;\n",
              "    }\n",
              "</style>\n",
              "<table border=\"1\" class=\"dataframe\">\n",
              "  <thead>\n",
              "    <tr style=\"text-align: right;\">\n",
              "      <th></th>\n",
              "      <th>age</th>\n",
              "      <th>workclass</th>\n",
              "      <th>fnlwgt</th>\n",
              "      <th>education</th>\n",
              "      <th>education-num</th>\n",
              "      <th>marital-status</th>\n",
              "      <th>occupation</th>\n",
              "      <th>relationship</th>\n",
              "      <th>race</th>\n",
              "      <th>sex</th>\n",
              "      <th>capital-gain</th>\n",
              "      <th>capital-loss</th>\n",
              "      <th>hours-per-week</th>\n",
              "      <th>country</th>\n",
              "      <th>salary</th>\n",
              "    </tr>\n",
              "  </thead>\n",
              "  <tbody>\n",
              "    <tr>\n",
              "      <th>0</th>\n",
              "      <td>39</td>\n",
              "      <td>State-gov</td>\n",
              "      <td>77516</td>\n",
              "      <td>Bachelors</td>\n",
              "      <td>13</td>\n",
              "      <td>Never-married</td>\n",
              "      <td>Adm-clerical</td>\n",
              "      <td>Not-in-family</td>\n",
              "      <td>White</td>\n",
              "      <td>Male</td>\n",
              "      <td>2174</td>\n",
              "      <td>0</td>\n",
              "      <td>40</td>\n",
              "      <td>United-States</td>\n",
              "      <td>&lt;=50K</td>\n",
              "    </tr>\n",
              "    <tr>\n",
              "      <th>1</th>\n",
              "      <td>50</td>\n",
              "      <td>Self-emp-not-inc</td>\n",
              "      <td>83311</td>\n",
              "      <td>Bachelors</td>\n",
              "      <td>13</td>\n",
              "      <td>Married-civ-spouse</td>\n",
              "      <td>Exec-managerial</td>\n",
              "      <td>Husband</td>\n",
              "      <td>White</td>\n",
              "      <td>Male</td>\n",
              "      <td>0</td>\n",
              "      <td>0</td>\n",
              "      <td>13</td>\n",
              "      <td>United-States</td>\n",
              "      <td>&lt;=50K</td>\n",
              "    </tr>\n",
              "    <tr>\n",
              "      <th>2</th>\n",
              "      <td>38</td>\n",
              "      <td>Private</td>\n",
              "      <td>215646</td>\n",
              "      <td>HS-grad</td>\n",
              "      <td>9</td>\n",
              "      <td>Divorced</td>\n",
              "      <td>Handlers-cleaners</td>\n",
              "      <td>Not-in-family</td>\n",
              "      <td>White</td>\n",
              "      <td>Male</td>\n",
              "      <td>0</td>\n",
              "      <td>0</td>\n",
              "      <td>40</td>\n",
              "      <td>United-States</td>\n",
              "      <td>&lt;=50K</td>\n",
              "    </tr>\n",
              "    <tr>\n",
              "      <th>3</th>\n",
              "      <td>53</td>\n",
              "      <td>Private</td>\n",
              "      <td>234721</td>\n",
              "      <td>11th</td>\n",
              "      <td>7</td>\n",
              "      <td>Married-civ-spouse</td>\n",
              "      <td>Handlers-cleaners</td>\n",
              "      <td>Husband</td>\n",
              "      <td>Black</td>\n",
              "      <td>Male</td>\n",
              "      <td>0</td>\n",
              "      <td>0</td>\n",
              "      <td>40</td>\n",
              "      <td>United-States</td>\n",
              "      <td>&lt;=50K</td>\n",
              "    </tr>\n",
              "    <tr>\n",
              "      <th>4</th>\n",
              "      <td>28</td>\n",
              "      <td>Private</td>\n",
              "      <td>338409</td>\n",
              "      <td>Bachelors</td>\n",
              "      <td>13</td>\n",
              "      <td>Married-civ-spouse</td>\n",
              "      <td>Prof-specialty</td>\n",
              "      <td>Wife</td>\n",
              "      <td>Black</td>\n",
              "      <td>Female</td>\n",
              "      <td>0</td>\n",
              "      <td>0</td>\n",
              "      <td>40</td>\n",
              "      <td>Cuba</td>\n",
              "      <td>&lt;=50K</td>\n",
              "    </tr>\n",
              "  </tbody>\n",
              "</table>\n",
              "</div>"
            ],
            "text/plain": [
              "   age          workclass  fnlwgt  ... hours-per-week         country  salary\n",
              "0   39          State-gov   77516  ...             40   United-States   <=50K\n",
              "1   50   Self-emp-not-inc   83311  ...             13   United-States   <=50K\n",
              "2   38            Private  215646  ...             40   United-States   <=50K\n",
              "3   53            Private  234721  ...             40   United-States   <=50K\n",
              "4   28            Private  338409  ...             40            Cuba   <=50K\n",
              "\n",
              "[5 rows x 15 columns]"
            ]
          },
          "metadata": {
            "tags": []
          },
          "execution_count": 70
        }
      ]
    },
    {
      "cell_type": "code",
      "metadata": {
        "id": "uiGgg7xXA0l4",
        "colab_type": "code",
        "colab": {}
      },
      "source": [
        "edu_f = df['education-num'][df['sex'] == ' Female'].sample(1000)\n",
        "edu_m = df['education-num'][df['sex'] == ' Male'].sample(1000)\n",
        "# age_sample.value_counts()\n",
        "# len(age_sample.unique())"
      ],
      "execution_count": 0,
      "outputs": []
    },
    {
      "cell_type": "code",
      "metadata": {
        "id": "TV6ndeVFDFcA",
        "colab_type": "code",
        "outputId": "8b7de5d0-709e-4afa-9246-638c20d744f0",
        "colab": {
          "base_uri": "https://localhost:8080/",
          "height": 68
        }
      },
      "source": [
        "bayes_mean_f, bayes_var_f, bayes_std_f = stats.bayes_mvs(edu_f, alpha=.95)\n",
        "print('Mean: ', bayes_mean_f)\n",
        "print('Variance:', bayes_var_f)\n",
        "print('Std Dev: ', bayes_std_f)"
      ],
      "execution_count": 72,
      "outputs": [
        {
          "output_type": "stream",
          "text": [
            "Mean:  Mean(statistic=10.083, minmax=(9.932628000683795, 10.233371999316205))\n",
            "Variance: Variance(statistic=5.883762286860581, minmax=(5.38923352783186, 6.422976664763846))\n",
            "Std Dev:  Std_dev(statistic=2.4250386169680063, minmax=(2.321472275912823, 2.534359221729202))\n"
          ],
          "name": "stdout"
        }
      ]
    },
    {
      "cell_type": "code",
      "metadata": {
        "id": "01YN48rEHeBe",
        "colab_type": "code",
        "outputId": "b89c1bcf-0bb2-47af-e135-fcc1e5ad2d5a",
        "colab": {
          "base_uri": "https://localhost:8080/",
          "height": 68
        }
      },
      "source": [
        "bayes_mean_m, bayes_var_m, bayes_std_m = stats.bayes_mvs(edu_m, alpha=.95)\n",
        "print('Mean: ', bayes_mean_m)\n",
        "print('Variance:', bayes_var_m)\n",
        "print('Std Dev: ', bayes_std_m)"
      ],
      "execution_count": 73,
      "outputs": [
        {
          "output_type": "stream",
          "text": [
            "Mean:  Mean(statistic=10.167, minmax=(10.004090163091941, 10.329909836908058))\n",
            "Variance: Variance(statistic=6.905828485456369, minmax=(6.325395316257048, 7.538709596069505))\n",
            "Std Dev:  Std_dev(statistic=2.627235438662095, minmax=(2.515033859862934, 2.745671064798095))\n"
          ],
          "name": "stdout"
        }
      ]
    },
    {
      "cell_type": "code",
      "metadata": {
        "id": "Ylu-SsAqDvne",
        "colab_type": "code",
        "outputId": "91f87100-8252-496f-9746-6e555b0300d2",
        "colab": {
          "base_uri": "https://localhost:8080/",
          "height": 398
        }
      },
      "source": [
        "fig,ax = plt.subplots(figsize=(12,6), facecolor=\"white\")\n",
        "\n",
        "sns.kdeplot(edu_f, color='r', linewidth=1.5)\n",
        "sns.kdeplot(edu_m, color='b', linewidth=1.5)\n",
        "\n",
        "for x in ('left', 'right', 'top', 'bottom'):\n",
        "    ax.spines[x].set_visible(False)\n",
        "    \n",
        "ax.grid(False)\n",
        "ax.set_facecolor('white')\n",
        "plt.xlim(8,14)\n",
        "plt.axvline(x=bayes_mean_f.statistic, color='red', linewidth=1.5)\n",
        "plt.axvline(x=bayes_mean_f.minmax[0], color='red', linewidth=1, linestyle='dashed')\n",
        "plt.axvline(x=bayes_mean_f.minmax[1], color='red', linewidth=1, linestyle='dashed')\n",
        "plt.axvline(x=bayes_mean_m.statistic, color='blue', linewidth=1.5)\n",
        "plt.axvline(x=bayes_mean_m.minmax[0], color='blue', linewidth=1, linestyle='dashed')\n",
        "plt.axvline(x=bayes_mean_m.minmax[1], color='blue', linewidth=1, linestyle='dashed')\n",
        "plt.show()"
      ],
      "execution_count": 74,
      "outputs": [
        {
          "output_type": "display_data",
          "data": {
            "image/png": "[encoded data removed]",
            "text/plain": [
              "<Figure size 864x432 with 1 Axes>"
            ]
          },
          "metadata": {
            "tags": []
          }
        }
      ]
    },
    {
      "cell_type": "markdown",
      "metadata": {
        "id": "ojMgp-2RKUqc",
        "colab_type": "text"
      },
      "source": [
        "3. Create a visualization comparing the results of a Bayesian approach to a traditional/frequentist approach\n",
        "\n",
        "If you're unsure where to start, check out [this blog post of Bayes theorem with Python](https://dataconomy.com/2015/02/introduction-to-bayes-theorem-with-python/) - you could and should create something similar!"
      ]
    },
    {
      "cell_type": "markdown",
      "metadata": {
        "id": "AYPS5F-yKY4k",
        "colab_type": "text"
      },
      "source": [
        "I first want to answer the question, **\"What is the likelihood that a driver is drunk?\"**"
      ]
    },
    {
      "cell_type": "code",
      "metadata": {
        "id": "WRhElj8Y2j1D",
        "colab_type": "code",
        "colab": {}
      },
      "source": [
        "# IMPORT STUFF\n",
        "\n",
        "import pandas as pd\n",
        "import numpy as np\n",
        "import scipy.stats as st\n",
        "import matplotlib.pyplot as plt\n",
        "import seaborn as sns"
      ],
      "execution_count": 0,
      "outputs": []
    },
    {
      "cell_type": "markdown",
      "metadata": {
        "id": "EY1VZMigq0d7",
        "colab_type": "text"
      },
      "source": [
        ""
      ]
    },
    {
      "cell_type": "markdown",
      "metadata": {
        "id": "i1z5rsBaDate",
        "colab_type": "text"
      },
      "source": [
        "First we'll take a **frequentist approach**, using the sample to create a mean and confidence interval.\n",
        "\n",
        "Start by constructing a dataframe based on set parameters."
      ]
    },
    {
      "cell_type": "code",
      "metadata": {
        "id": "aPp1_xKODOSu",
        "colab_type": "code",
        "colab": {
          "base_uri": "https://localhost:8080/",
          "height": 68
        },
        "outputId": "dbe0feb0-0a52-4076-bc46-42e12b141b36"
      },
      "source": [
        "# Construct DataFrame\n",
        "\n",
        "# drunk_rand = np.random.binomial(n=1, p=prob_drunk, size=1)\n",
        "# pos_rand = np.random.binomial(n=1, p=prob_pos, size=1)\n",
        "\n",
        "prob_drunk = .02\n",
        "prob_pos = .05\n",
        "prob_pos_drunk = 1\n",
        "\n",
        "drunk_pop = []\n",
        "pos_pop = []\n",
        "\n",
        "for x in range(0,100000):\n",
        "    drunk_rand = int(np.random.binomial(n=1, p=prob_drunk, size=1))\n",
        "    drunk_pop.append(drunk_rand)\n",
        "    if drunk_rand == 1:\n",
        "        pos_rand = 1\n",
        "    else:\n",
        "        pos_rand = int(np.random.binomial(n=1, p=prob_pos-prob_drunk, size=1))\n",
        "    pos_pop.append(pos_rand)\n",
        "    \n",
        "    drunk_pop\n",
        "    \n",
        "df = pd.DataFrame({'drunk': drunk_pop, 'positive': pos_pop})\n",
        "# df[:][df['positive'] == 1].head()\n",
        "# df\n",
        "# df.value_counts()\n",
        "\n",
        "df['drunk'].loc[df['positive'] == 1].value_counts()"
      ],
      "execution_count": 415,
      "outputs": [
        {
          "output_type": "execute_result",
          "data": {
            "text/plain": [
              "0    2872\n",
              "1    1990\n",
              "Name: drunk, dtype: int64"
            ]
          },
          "metadata": {
            "tags": []
          },
          "execution_count": 415
        }
      ]
    },
    {
      "cell_type": "code",
      "metadata": {
        "id": "UGxLlTY8KGTN",
        "colab_type": "code",
        "colab": {}
      },
      "source": [
        "# FREQUENTIST APPROACH\n",
        "\n",
        "# Create a probability distribution of P(D|+) based on random sample means\n",
        "\n",
        "drivers = []\n",
        "\n",
        "for trial in range(100):\n",
        "    pop = df['drunk'].loc[df['positive'] == 1].sample(30)\n",
        "    drivers.append(pop.mean())\n",
        "    \n",
        "# drivers"
      ],
      "execution_count": 0,
      "outputs": []
    },
    {
      "cell_type": "code",
      "metadata": {
        "id": "Q5jiCngvAgho",
        "colab_type": "code",
        "colab": {}
      },
      "source": [
        "# Identify sample mean and confidence interval\n",
        "\n",
        "sample_mean = np.mean(drivers)\n",
        "sample_std = np.std(drivers)\n",
        "sample_size = len(drivers)\n",
        "std_error = sample_std / np.sqrt(sample_size)\n",
        "\n",
        "t = st.t.ppf(.975, sample_size-1)\n",
        "\n",
        "conf_int = (sample_mean - t * std_error, sample_mean + t * std_error)"
      ],
      "execution_count": 0,
      "outputs": []
    },
    {
      "cell_type": "code",
      "metadata": {
        "id": "oS4IaurZR2Wg",
        "colab_type": "code",
        "colab": {
          "base_uri": "https://localhost:8080/",
          "height": 449
        },
        "outputId": "365678a6-408f-4b51-858a-3786740a5f6b"
      },
      "source": [
        "# Plot the distribution\n",
        "\n",
        "fig,ax = plt.subplots(figsize=(12,6), facecolor=\"white\")\n",
        "\n",
        "sns.kdeplot(drivers, linewidth=2)\n",
        "# plt.xlim(-1,1.5)\n",
        "ax.set_facecolor('white')\n",
        "ax.grid(False)\n",
        "\n",
        "for x in ('left', 'right', 'top', 'bottom'):\n",
        "    ax.spines[x].set_visible(False)\n",
        "    \n",
        "plt.axvline(x=sample_mean, color='black', linewidth=2)\n",
        "plt.axvline(x=conf_int[0], color='red', linewidth=2)\n",
        "plt.axvline(x=conf_int[1], color='red', linewidth=2)\n",
        "plt.title('Distribution: Probability of being drunk', fontsize=14)\n",
        "plt.show()\n",
        "\n",
        "print('MEAN: ', sample_mean)\n",
        "print('CONF INTERVAL: +/-', conf_int[1] - sample_mean)"
      ],
      "execution_count": 418,
      "outputs": [
        {
          "output_type": "display_data",
          "data": {
            "image/png": "[encoded data removed]",
            "text/plain": [
              "<Figure size 864x432 with 1 Axes>"
            ]
          },
          "metadata": {
            "tags": []
          }
        },
        {
          "output_type": "stream",
          "text": [
            "MEAN:  0.409\n",
            "CONF INTERVAL: +/- 0.018421186349670937\n"
          ],
          "name": "stdout"
        }
      ]
    },
    {
      "cell_type": "markdown",
      "metadata": {
        "id": "MgWV1Jt1C5lM",
        "colab_type": "text"
      },
      "source": [
        "The frequentist approach gives us a mean of **41%** with a 95% confidence interval of **+/- 1.8%**.\n",
        "\n",
        "Now to compare with a **Bayesian approach**, identifying my prior belief and updating based on new insight."
      ]
    },
    {
      "cell_type": "code",
      "metadata": {
        "id": "vYD_3zKQpwCL",
        "colab_type": "code",
        "colab": {
          "base_uri": "https://localhost:8080/",
          "height": 34
        },
        "outputId": "315670da-32e5-456d-d18d-8e105b152333"
      },
      "source": [
        "# Bayes' theorem\n",
        "\n",
        "def prob_drunk_given_positive(prob_drunk_prior, prob_positive, prob_positive_drunk):\n",
        "    prob = (prob_positive_drunk * prob_drunk_prior) / prob_positive\n",
        "    return prob\n",
        "\n",
        "prob_drunk_given_positive(prob_drunk, prob_pos, prob_pos_drunk)"
      ],
      "execution_count": 419,
      "outputs": [
        {
          "output_type": "execute_result",
          "data": {
            "text/plain": [
              "0.39999999999999997"
            ]
          },
          "metadata": {
            "tags": []
          },
          "execution_count": 419
        }
      ]
    },
    {
      "cell_type": "code",
      "metadata": {
        "id": "oZB2e0CNp5yl",
        "colab_type": "code",
        "colab": {
          "base_uri": "https://localhost:8080/",
          "height": 68
        },
        "outputId": "e73df9c0-712f-480d-ddd5-2fec92be6451"
      },
      "source": [
        "# bayes_mvs\n",
        "\n",
        "bayes_mean_f, bayes_var_f, bayes_std_f = stats.bayes_mvs(df['drunk'].loc[df['positive'] == 1], alpha=.95)\n",
        "print('Mean: ', bayes_mean_f)\n",
        "print('Variance:', bayes_var_f)\n",
        "print('Std Dev: ', bayes_std_f)"
      ],
      "execution_count": 420,
      "outputs": [
        {
          "output_type": "stream",
          "text": [
            "Mean:  Mean(statistic=0.409296585767174, minmax=(0.39547542829217447, 0.4231177432421735))\n",
            "Variance: Variance(statistic=0.2417728906465084, minmax=(0.23216200932282294, 0.25138377197019385))\n",
            "Std Dev:  Std_dev(statistic=0.49170406816143836, minmax=(0.4819310339870191, 0.5014771023358576))\n"
          ],
          "name": "stdout"
        }
      ]
    },
    {
      "cell_type": "code",
      "metadata": {
        "id": "udlrcOLpvYy0",
        "colab_type": "code",
        "colab": {
          "base_uri": "https://localhost:8080/",
          "height": 68
        },
        "outputId": "63666b4f-d5b2-450d-c1fc-2d9a25edd9d1"
      },
      "source": [
        "# Sampling\n",
        "\n",
        "prob_drunk_b = df['drunk'].loc[df['drunk'] == 1].count() / df['drunk'].count()\n",
        "prob_pos_b = df['positive'].loc[df['positive'] == 1].count() / df['positive'].count()\n",
        "prob_pos_drunk_b = (df['positive'].loc[(df['positive'] == 1) & (df['drunk'] == 1)]\n",
        "                    .count() / df['positive'].loc[df['drunk'] == 1].count())\n",
        "\n",
        "print('P(D): ', prob_drunk_b)\n",
        "print('P(+): ', prob_pos_b)\n",
        "print('P(+|D): ', prob_pos_drunk_b)"
      ],
      "execution_count": 421,
      "outputs": [
        {
          "output_type": "stream",
          "text": [
            "P(D):  0.0199\n",
            "P(+):  0.04862\n",
            "P(+|D):  1.0\n"
          ],
          "name": "stdout"
        }
      ]
    },
    {
      "cell_type": "code",
      "metadata": {
        "id": "XQVr4hebya03",
        "colab_type": "code",
        "colab": {
          "base_uri": "https://localhost:8080/",
          "height": 432
        },
        "outputId": "cb1a648b-825f-4e7b-e76f-961e42bc1332"
      },
      "source": [
        "drivers_b = []\n",
        "\n",
        "for trial in range(100):\n",
        "    \n",
        "    new_samp = df.sample(1000) #SAMPLE IS LARGER TO ENSURE WE DON'T DIVIDE BY ZERO\n",
        "    \n",
        "    prob_drunk_b = new_samp['drunk'].loc[new_samp['drunk'] == 1].count() / new_samp['drunk'].count()\n",
        "    prob_pos_b = new_samp['positive'].loc[new_samp['positive'] == 1].count() / new_samp['positive'].count()\n",
        "    prob_pos_drunk_b = (new_samp['positive'].loc[(new_samp['positive'] == 1) & (new_samp['drunk'] == 1)]\n",
        "                    .count() / new_samp['positive'].loc[new_samp['drunk'] == 1].count())\n",
        "    \n",
        "    drivers_b.append(prob_drunk_given_positive(prob_drunk_b, prob_pos_b, prob_pos_drunk_b))\n",
        "\n",
        "fig,ax = plt.subplots(figsize=(12,6), facecolor=\"white\")\n",
        "\n",
        "sns.kdeplot(drivers_b, linewidth=2)\n",
        "\n",
        "ax.set_facecolor('white')\n",
        "ax.grid(False)\n",
        "\n",
        "for x in ('left', 'right', 'top', 'bottom'):\n",
        "    ax.spines[x].set_visible(False)\n",
        "    \n",
        "plt.axvline(x=np.mean(drivers_b), color='black', linewidth=2)\n",
        "plt.title('Distribution: Probability of being drunk', fontsize=14)\n",
        "plt.show()\n",
        "\n",
        "print('MEAN: ', np.mean(drivers_b))\n"
      ],
      "execution_count": 435,
      "outputs": [
        {
          "output_type": "display_data",
          "data": {
            "image/png": "[encoded data removed]",
            "text/plain": [
              "<Figure size 864x432 with 1 Axes>"
            ]
          },
          "metadata": {
            "tags": []
          }
        },
        {
          "output_type": "stream",
          "text": [
            "MEAN:  0.4089445983920983\n"
          ],
          "name": "stdout"
        }
      ]
    },
    {
      "cell_type": "code",
      "metadata": {
        "id": "1m6gV7Uv0d6A",
        "colab_type": "code",
        "colab": {}
      },
      "source": [
        ""
      ],
      "execution_count": 0,
      "outputs": []
    },
    {
      "cell_type": "markdown",
      "metadata": {
        "id": "_61BrfXvKUzg",
        "colab_type": "text"
      },
      "source": [
        "4. In your own words, summarize the difference between Bayesian and Frequentist statistics\n",
        "\n",
        "I'm going to use Jake VanderPlas' words instead.\n",
        "\n",
        "| Frequentist | Bayesian |\n",
        "|--------------------|----------------|\n",
        "| Fundamentally concerned with *frequency of events* | Fundamentally concerned with *degrees of certainty* |\n",
        "| Statement about *confidence intervals* given fixed model parameters | Statement about *model parameters* given a fixed credible region |\n",
        "| \"If this experiment is repeated many times, the computed confidence interval will contain the true value 95% of the time.\" | \"Given observed data, there is a 95% probability that the <br/>true value lies within the credible region.\"                 |"
      ]
    },
    {
      "cell_type": "markdown",
      "metadata": {
        "id": "_GEhuADmKVJT",
        "colab_type": "text"
      },
      "source": [
        "Stretch goals:\n",
        "\n",
        "- Apply a Bayesian technique to a problem you previously worked (in an assignment or project work) on from a frequentist (standard) perspective\n",
        "- Check out [PyMC3](https://docs.pymc.io/) (note this goes beyond hypothesis tests into modeling) - read the guides and work through some examples\n",
        "- Take PyMC3 further - see if you can build something with it!"
      ]
    },
    {
      "cell_type": "markdown",
      "metadata": {
        "id": "uWgWjp3PQ3Sq",
        "colab_type": "text"
      },
      "source": [
        "## Resources"
      ]
    },
    {
      "cell_type": "markdown",
      "metadata": {
        "id": "QRgHqmYIQ9qn",
        "colab_type": "text"
      },
      "source": [
        "- [Worked example of Bayes rule calculation](https://en.wikipedia.org/wiki/Bayes'_theorem#Examples) (helpful as it fully breaks out the denominator)\n",
        "- [Source code for mvsdist in scipy](https://github.com/scipy/scipy/blob/90534919e139d2a81c24bf08341734ff41a3db12/scipy/stats/morestats.py#L139)"
      ]
    }
  ]
}
