{
  "nbformat": 4,
  "nbformat_minor": 0,
  "metadata": {
    "colab": {
      "name": "Garret_Bassett_DS_Unit_1_Sprint_Challenge_3.ipynb",
      "version": "0.3.2",
      "provenance": [],
      "collapsed_sections": [],
      "include_colab_link": true
    },
    "kernelspec": {
      "name": "python3",
      "display_name": "Python 3"
    }
  },
  "cells": [
    {
      "cell_type": "markdown",
      "metadata": {
        "id": "view-in-github",
        "colab_type": "text"
      },
      "source": [
        "<a href=\"https://colab.research.google.com/github/garretbassett/DS-Unit-1-Sprint-3-Statistical-Tests-and-Experiments/blob/master/Garret_Bassett_DS_Unit_1_Sprint_Challenge_3.ipynb\" target=\"_parent\"><img src=\"https://colab.research.google.com/assets/colab-badge.svg\" alt=\"Open In Colab\"/></a>"
      ]
    },
    {
      "cell_type": "markdown",
      "metadata": {
        "id": "NooAiTdnafkz",
        "colab_type": "text"
      },
      "source": [
        "# Data Science Unit 1 Sprint Challenge 4\n",
        "\n",
        "## Exploring Data, Testing Hypotheses\n",
        "\n",
        "In this sprint challenge you will look at a dataset of people being approved or rejected for credit.\n",
        "\n",
        "https://archive.ics.uci.edu/ml/datasets/Credit+Approval\n",
        "\n",
        "Data Set Information: This file concerns credit card applications. All attribute names and values have been changed to meaningless symbols to protect confidentiality of the data. This dataset is interesting because there is a good mix of attributes -- continuous, nominal with small numbers of values, and nominal with larger numbers of values. There are also a few missing values.\n",
        "\n",
        "Attribute Information:\n",
        "- A1: b, a.\n",
        "- A2: continuous.\n",
        "- A3: continuous.\n",
        "- A4: u, y, l, t.\n",
        "- A5: g, p, gg.\n",
        "- A6: c, d, cc, i, j, k, m, r, q, w, x, e, aa, ff.\n",
        "- A7: v, h, bb, j, n, z, dd, ff, o.\n",
        "- A8: continuous.\n",
        "- A9: t, f.\n",
        "- A10: t, f.\n",
        "- A11: continuous.\n",
        "- A12: t, f.\n",
        "- A13: g, p, s.\n",
        "- A14: continuous.\n",
        "- A15: continuous.\n",
        "- A16: +,- (class attribute)\n",
        "\n",
        "Yes, most of that doesn't mean anything. A16 (the class attribute) is the most interesting, as it separates the 307 approved cases from the 383 rejected cases. The remaining variables have been obfuscated for privacy - a challenge you may have to deal with in your data science career.\n",
        "\n",
        "Sprint challenges are evaluated based on satisfactory completion of each part. It is suggested you work through it in order, getting each aspect reasonably working, before trying to deeply explore, iterate, or refine any given step. Once you get to the end, if you want to go back and improve things, go for it!"
      ]
    },
    {
      "cell_type": "markdown",
      "metadata": {
        "id": "5wch6ksCbJtZ",
        "colab_type": "text"
      },
      "source": [
        "## Part 1 - Load and validate the data\n",
        "\n",
        "- Load the data as a `pandas` data frame.\n",
        "- Validate that it has the appropriate number of observations (you can check the raw file, and also read the dataset description from UCI)."
      ]
    },
    {
      "cell_type": "code",
      "metadata": {
        "id": "Q79xDLckzibS",
        "colab_type": "code",
        "colab": {
          "base_uri": "https://localhost:8080/",
          "height": 221
        },
        "outputId": "1fb1799c-9312-458d-9877-595fa3126daf"
      },
      "source": [
        "#IMPORT STATEMENTS\n",
        "\n",
        "import pandas as pd\n",
        "import numpy as np\n",
        "\n",
        "# READ CSV, ADD COLUMN NAMES\n",
        "\n",
        "crx = pd.read_csv('https://archive.ics.uci.edu/ml/machine-learning-databases/credit-screening/crx.data'\n",
        "                 , names = ['A1','A2','A3','A4','A5','A6','A7','A8','A9','A10'\n",
        "                            ,'A11','A12','A13','A14','A15','A16'])\n",
        "print(crx.shape)\n",
        "crx.head()"
      ],
      "execution_count": 52,
      "outputs": [
        {
          "output_type": "stream",
          "text": [
            "(690, 16)\n"
          ],
          "name": "stdout"
        },
        {
          "output_type": "execute_result",
          "data": {
            "text/html": [
              "<div>\n",
              "<style scoped>\n",
              "    .dataframe tbody tr th:only-of-type {\n",
              "        vertical-align: middle;\n",
              "    }\n",
              "\n",
              "    .dataframe tbody tr th {\n",
              "        vertical-align: top;\n",
              "    }\n",
              "\n",
              "    .dataframe thead th {\n",
              "        text-align: right;\n",
              "    }\n",
              "</style>\n",
              "<table border=\"1\" class=\"dataframe\">\n",
              "  <thead>\n",
              "    <tr style=\"text-align: right;\">\n",
              "      <th></th>\n",
              "      <th>A1</th>\n",
              "      <th>A2</th>\n",
              "      <th>A3</th>\n",
              "      <th>A4</th>\n",
              "      <th>A5</th>\n",
              "      <th>A6</th>\n",
              "      <th>A7</th>\n",
              "      <th>A8</th>\n",
              "      <th>A9</th>\n",
              "      <th>A10</th>\n",
              "      <th>A11</th>\n",
              "      <th>A12</th>\n",
              "      <th>A13</th>\n",
              "      <th>A14</th>\n",
              "      <th>A15</th>\n",
              "      <th>A16</th>\n",
              "    </tr>\n",
              "  </thead>\n",
              "  <tbody>\n",
              "    <tr>\n",
              "      <th>0</th>\n",
              "      <td>b</td>\n",
              "      <td>30.83</td>\n",
              "      <td>0.000</td>\n",
              "      <td>u</td>\n",
              "      <td>g</td>\n",
              "      <td>w</td>\n",
              "      <td>v</td>\n",
              "      <td>1.25</td>\n",
              "      <td>t</td>\n",
              "      <td>t</td>\n",
              "      <td>1</td>\n",
              "      <td>f</td>\n",
              "      <td>g</td>\n",
              "      <td>00202</td>\n",
              "      <td>0</td>\n",
              "      <td>+</td>\n",
              "    </tr>\n",
              "    <tr>\n",
              "      <th>1</th>\n",
              "      <td>a</td>\n",
              "      <td>58.67</td>\n",
              "      <td>4.460</td>\n",
              "      <td>u</td>\n",
              "      <td>g</td>\n",
              "      <td>q</td>\n",
              "      <td>h</td>\n",
              "      <td>3.04</td>\n",
              "      <td>t</td>\n",
              "      <td>t</td>\n",
              "      <td>6</td>\n",
              "      <td>f</td>\n",
              "      <td>g</td>\n",
              "      <td>00043</td>\n",
              "      <td>560</td>\n",
              "      <td>+</td>\n",
              "    </tr>\n",
              "    <tr>\n",
              "      <th>2</th>\n",
              "      <td>a</td>\n",
              "      <td>24.50</td>\n",
              "      <td>0.500</td>\n",
              "      <td>u</td>\n",
              "      <td>g</td>\n",
              "      <td>q</td>\n",
              "      <td>h</td>\n",
              "      <td>1.50</td>\n",
              "      <td>t</td>\n",
              "      <td>f</td>\n",
              "      <td>0</td>\n",
              "      <td>f</td>\n",
              "      <td>g</td>\n",
              "      <td>00280</td>\n",
              "      <td>824</td>\n",
              "      <td>+</td>\n",
              "    </tr>\n",
              "    <tr>\n",
              "      <th>3</th>\n",
              "      <td>b</td>\n",
              "      <td>27.83</td>\n",
              "      <td>1.540</td>\n",
              "      <td>u</td>\n",
              "      <td>g</td>\n",
              "      <td>w</td>\n",
              "      <td>v</td>\n",
              "      <td>3.75</td>\n",
              "      <td>t</td>\n",
              "      <td>t</td>\n",
              "      <td>5</td>\n",
              "      <td>t</td>\n",
              "      <td>g</td>\n",
              "      <td>00100</td>\n",
              "      <td>3</td>\n",
              "      <td>+</td>\n",
              "    </tr>\n",
              "    <tr>\n",
              "      <th>4</th>\n",
              "      <td>b</td>\n",
              "      <td>20.17</td>\n",
              "      <td>5.625</td>\n",
              "      <td>u</td>\n",
              "      <td>g</td>\n",
              "      <td>w</td>\n",
              "      <td>v</td>\n",
              "      <td>1.71</td>\n",
              "      <td>t</td>\n",
              "      <td>f</td>\n",
              "      <td>0</td>\n",
              "      <td>f</td>\n",
              "      <td>s</td>\n",
              "      <td>00120</td>\n",
              "      <td>0</td>\n",
              "      <td>+</td>\n",
              "    </tr>\n",
              "  </tbody>\n",
              "</table>\n",
              "</div>"
            ],
            "text/plain": [
              "  A1     A2     A3 A4 A5 A6 A7    A8 A9 A10  A11 A12 A13    A14  A15 A16\n",
              "0  b  30.83  0.000  u  g  w  v  1.25  t   t    1   f   g  00202    0   +\n",
              "1  a  58.67  4.460  u  g  q  h  3.04  t   t    6   f   g  00043  560   +\n",
              "2  a  24.50  0.500  u  g  q  h  1.50  t   f    0   f   g  00280  824   +\n",
              "3  b  27.83  1.540  u  g  w  v  3.75  t   t    5   t   g  00100    3   +\n",
              "4  b  20.17  5.625  u  g  w  v  1.71  t   f    0   f   s  00120    0   +"
            ]
          },
          "metadata": {
            "tags": []
          },
          "execution_count": 52
        }
      ]
    },
    {
      "cell_type": "markdown",
      "metadata": {
        "id": "0FqLOGYiYH1E",
        "colab_type": "text"
      },
      "source": [
        "It looks like the shape is correct. The documentation only cites 15, but there are clearly 16 listed. I guess one of them isn't technically an attribute. Maybe `A16` or `A1`?\n",
        "\n",
        "\n"
      ]
    },
    {
      "cell_type": "markdown",
      "metadata": {
        "id": "9bE5PciYYnfX",
        "colab_type": "text"
      },
      "source": [
        "- UCI says there should be missing data - check, and if necessary change the data so pandas recognizes it as na"
      ]
    },
    {
      "cell_type": "code",
      "metadata": {
        "id": "DGYtoiepYuRk",
        "colab_type": "code",
        "colab": {
          "base_uri": "https://localhost:8080/",
          "height": 306
        },
        "outputId": "da4986fe-961a-4ae4-d090-59ac382bf87a"
      },
      "source": [
        "crx = crx.replace({'?': np.nan})\n",
        "\n",
        "crx.isna().sum()"
      ],
      "execution_count": 53,
      "outputs": [
        {
          "output_type": "execute_result",
          "data": {
            "text/plain": [
              "A1     12\n",
              "A2     12\n",
              "A3      0\n",
              "A4      6\n",
              "A5      6\n",
              "A6      9\n",
              "A7      9\n",
              "A8      0\n",
              "A9      0\n",
              "A10     0\n",
              "A11     0\n",
              "A12     0\n",
              "A13     0\n",
              "A14    13\n",
              "A15     0\n",
              "A16     0\n",
              "dtype: int64"
            ]
          },
          "metadata": {
            "tags": []
          },
          "execution_count": 53
        }
      ]
    },
    {
      "cell_type": "markdown",
      "metadata": {
        "id": "WNrnjHHOYqHE",
        "colab_type": "text"
      },
      "source": [
        "- Make sure that the loaded features are of the types described above (continuous values should be treated as float), and correct as necessary\n",
        "\n",
        "This is review, but skills that you'll use at the start of any data exploration. Further, you may have to do some investigation to figure out which file to load from - that is part of the puzzle."
      ]
    },
    {
      "cell_type": "code",
      "metadata": {
        "id": "JOW5m0vuYtYk",
        "colab_type": "code",
        "colab": {
          "base_uri": "https://localhost:8080/",
          "height": 374
        },
        "outputId": "d58cdeb8-c139-461b-d7e3-e7a77174fefa"
      },
      "source": [
        "# crx.info()\n",
        "\n",
        "cont_cols = ['A2','A3','A8','A11','A14','A15']\n",
        "cat_cols = ['A1','A4','A5','A6','A7','A9','A10','A11','A12','A13']\n",
        "\n",
        "for col in cont_cols:\n",
        "    crx[col] = crx[col].astype('float')\n",
        "\n",
        "crx.info()"
      ],
      "execution_count": 54,
      "outputs": [
        {
          "output_type": "stream",
          "text": [
            "<class 'pandas.core.frame.DataFrame'>\n",
            "RangeIndex: 690 entries, 0 to 689\n",
            "Data columns (total 16 columns):\n",
            "A1     678 non-null object\n",
            "A2     678 non-null float64\n",
            "A3     690 non-null float64\n",
            "A4     684 non-null object\n",
            "A5     684 non-null object\n",
            "A6     681 non-null object\n",
            "A7     681 non-null object\n",
            "A8     690 non-null float64\n",
            "A9     690 non-null object\n",
            "A10    690 non-null object\n",
            "A11    690 non-null float64\n",
            "A12    690 non-null object\n",
            "A13    690 non-null object\n",
            "A14    677 non-null float64\n",
            "A15    690 non-null float64\n",
            "A16    690 non-null object\n",
            "dtypes: float64(6), object(10)\n",
            "memory usage: 86.3+ KB\n"
          ],
          "name": "stdout"
        }
      ]
    },
    {
      "cell_type": "code",
      "metadata": {
        "id": "mfeOmc4Zd9p2",
        "colab_type": "code",
        "colab": {}
      },
      "source": [
        "crx = crx.dropna()"
      ],
      "execution_count": 0,
      "outputs": []
    },
    {
      "cell_type": "markdown",
      "metadata": {
        "id": "G7rLytbrO38L",
        "colab_type": "text"
      },
      "source": [
        "## Part 2 - Exploring data, Testing hypotheses\n",
        "\n",
        "The only thing we really know about this data is that A16 is the class label. Besides that, we have 6 continuous (float) features and 9 categorical features.\n",
        "\n",
        "Explore the data: you can use whatever approach (tables, utility functions, visualizations) to get an impression of the distributions and relationships of the variables. In general, your goal is to understand how the features are different when grouped by the two class labels (`+` and `-`).\n",
        "\n",
        "1. For the 6 continuous features, how are they different when split between the two class labels? Choose two features to run t-tests (again split by class label) - specifically, select one feature that is *extremely* different between the classes, and another feature that is notably less different (though perhaps still \"statistically significantly\" different). You may have to explore more than two features to do this.\n",
        "\n",
        "2. For the categorical features, explore by creating \"cross tabs\" (aka [contingency tables](https://en.wikipedia.org/wiki/Contingency_table)) between them and the class label, and apply the Chi-squared test to them. [pandas.crosstab](http://pandas.pydata.org/pandas-docs/stable/reference/api/pandas.crosstab.html) can create contingency tables, and [scipy.stats.chi2_contingency](https://docs.scipy.org/doc/scipy/reference/generated/scipy.stats.chi2_contingency.html) can calculate the Chi-squared statistic for them.\n",
        "\n",
        "3. There are 9 categorical features - as with the t-test, try to find one where the Chi-squared test returns an extreme result (rejecting the null that the data are independent), and one where it is less extreme.\n",
        "\n",
        "**NOTE** - \"less extreme\" just means smaller test statistic/larger p-value. Even the least extreme differences may be strongly statistically significant.\n",
        "\n",
        "Your *main* goal is the hypothesis tests, so don't spend too much time on the exploration/visualization piece. That is just a means to an end - use simple visualizations, such as boxplots or a scatter matrix (both built in to pandas), to get a feel for the overall distribution of the variables.\n",
        "\n",
        "This is challenging, so manage your time and aim for a baseline of at least running two t-tests and two Chi-squared tests before polishing. And don't forget to answer the questions in part 3, even if your results in this part aren't what you want them to be."
      ]
    },
    {
      "cell_type": "markdown",
      "metadata": {
        "id": "iATDyn6zbJb8",
        "colab_type": "text"
      },
      "source": [
        "#1"
      ]
    },
    {
      "cell_type": "code",
      "metadata": {
        "id": "_nqcgc0yzm68",
        "colab_type": "code",
        "colab": {}
      },
      "source": [
        "#IMPORT STATEMENTS\n",
        "\n",
        "import matplotlib.pyplot as plt\n",
        "from scipy import stats"
      ],
      "execution_count": 0,
      "outputs": []
    },
    {
      "cell_type": "code",
      "metadata": {
        "id": "QOwteHAvbg3h",
        "colab_type": "code",
        "colab": {
          "base_uri": "https://localhost:8080/",
          "height": 1000
        },
        "outputId": "4e3f6048-cfab-4324-817b-a71264c89412"
      },
      "source": [
        "for col in cont_cols:\n",
        "    fig = plt.figure(figsize=(12,3))\n",
        "    ax = fig.add_subplot()\n",
        "    crx.groupby('A16')[col].hist(bins=20, alpha=.5)\n",
        "    \n",
        "    pos_samp = crx[col][crx['A16'] == '+'].sample(100)\n",
        "    neg_samp = crx[col][crx['A16'] == '-'].sample(100)\n",
        "    \n",
        "    plt.axvline(x=pos_samp.mean(), color='black')\n",
        "    plt.axvline(x=neg_samp.mean(), color='red')\n",
        "    \n",
        "    tstat, pval = ttest_ind(pos_samp, neg_samp)\n",
        "    \n",
        "    print('\\n')\n",
        "    print(col)\n",
        "    plt.show()\n",
        "    print('T-STAT: ', tstat)\n",
        "    print('P-VAL: ', pval)\n",
        "    i += 1"
      ],
      "execution_count": 160,
      "outputs": [
        {
          "output_type": "stream",
          "text": [
            "\n",
            "\n",
            "A2\n"
          ],
          "name": "stdout"
        },
        {
          "output_type": "display_data",
          "data": {
            "image/png": "[encoded data removed]",
            "text/plain": [
              "<Figure size 864x216 with 1 Axes>"
            ]
          },
          "metadata": {
            "tags": []
          }
        },
        {
          "output_type": "stream",
          "text": [
            "T-STAT:  1.8764084587517613\n",
            "P-VAL:  0.06207042872835863\n",
            "\n",
            "\n",
            "A3\n"
          ],
          "name": "stdout"
        },
        {
          "output_type": "display_data",
          "data": {
            "image/png": "[encoded data removed]",
            "text/plain": [
              "<Figure size 864x216 with 1 Axes>"
            ]
          },
          "metadata": {
            "tags": []
          }
        },
        {
          "output_type": "stream",
          "text": [
            "T-STAT:  3.4569081394125307\n",
            "P-VAL:  0.000668677798306419\n",
            "\n",
            "\n",
            "A8\n"
          ],
          "name": "stdout"
        },
        {
          "output_type": "display_data",
          "data": {
            "image/png": "[encoded data removed]",
            "text/plain": [
              "<Figure size 864x216 with 1 Axes>"
            ]
          },
          "metadata": {
            "tags": []
          }
        },
        {
          "output_type": "stream",
          "text": [
            "T-STAT:  4.757036043746497\n",
            "P-VAL:  3.7796450640116825e-06\n",
            "\n",
            "\n",
            "A11\n"
          ],
          "name": "stdout"
        },
        {
          "output_type": "display_data",
          "data": {
            "image/png": "[encoded data removed]",
            "text/plain": [
              "<Figure size 864x216 with 1 Axes>"
            ]
          },
          "metadata": {
            "tags": []
          }
        },
        {
          "output_type": "stream",
          "text": [
            "T-STAT:  7.4769595156935855\n",
            "P-VAL:  2.408254220473218e-12\n",
            "\n",
            "\n",
            "A14\n"
          ],
          "name": "stdout"
        },
        {
          "output_type": "display_data",
          "data": {
            "image/png": "[encoded data removed]",
            "text/plain": [
              "<Figure size 864x216 with 1 Axes>"
            ]
          },
          "metadata": {
            "tags": []
          }
        },
        {
          "output_type": "stream",
          "text": [
            "T-STAT:  -0.6398880066459162\n",
            "P-VAL:  0.5229851306773339\n",
            "\n",
            "\n",
            "A15\n"
          ],
          "name": "stdout"
        },
        {
          "output_type": "display_data",
          "data": {
            "image/png": "[encoded data removed]",
            "text/plain": [
              "<Figure size 864x216 with 1 Axes>"
            ]
          },
          "metadata": {
            "tags": []
          }
        },
        {
          "output_type": "stream",
          "text": [
            "T-STAT:  3.3439121709626733\n",
            "P-VAL:  0.0009878987963798914\n"
          ],
          "name": "stdout"
        }
      ]
    },
    {
      "cell_type": "markdown",
      "metadata": {
        "id": "YeIwKgzKgMOc",
        "colab_type": "text"
      },
      "source": [
        "Several features are quite distinct across class labels. For this sample, **`A8`** is the most distinct feature.\n",
        "\n",
        "What is surprising to me is that **`A14`** is one of the most visually distinct charts, but consistently has a p-value of > 0.05."
      ]
    },
    {
      "cell_type": "markdown",
      "metadata": {
        "id": "kADrxGurhF8T",
        "colab_type": "text"
      },
      "source": [
        "#2"
      ]
    },
    {
      "cell_type": "markdown",
      "metadata": {
        "id": "MfQ4vMUjliLZ",
        "colab_type": "text"
      },
      "source": [
        "First, chi-square test on one variable. I'll do it manually."
      ]
    },
    {
      "cell_type": "code",
      "metadata": {
        "id": "1stpsUD8hKRV",
        "colab_type": "code",
        "colab": {
          "base_uri": "https://localhost:8080/",
          "height": 190
        },
        "outputId": "a5fd31b6-9829-4bc2-c8be-bca591e2cc9f"
      },
      "source": [
        "print(cat_cols)\n",
        "\n",
        "# 1. CREATE CONTINGENCY TABLE\n",
        "\n",
        "contingency_table = pd.crosstab(crx['A16'], crx['A7'], margins=True)\n",
        "contingency_table"
      ],
      "execution_count": 128,
      "outputs": [
        {
          "output_type": "stream",
          "text": [
            "['A1', 'A4', 'A5', 'A6', 'A7', 'A9', 'A10', 'A11', 'A12', 'A13']\n"
          ],
          "name": "stdout"
        },
        {
          "output_type": "execute_result",
          "data": {
            "text/html": [
              "<div>\n",
              "<style scoped>\n",
              "    .dataframe tbody tr th:only-of-type {\n",
              "        vertical-align: middle;\n",
              "    }\n",
              "\n",
              "    .dataframe tbody tr th {\n",
              "        vertical-align: top;\n",
              "    }\n",
              "\n",
              "    .dataframe thead th {\n",
              "        text-align: right;\n",
              "    }\n",
              "</style>\n",
              "<table border=\"1\" class=\"dataframe\">\n",
              "  <thead>\n",
              "    <tr style=\"text-align: right;\">\n",
              "      <th>A7</th>\n",
              "      <th>bb</th>\n",
              "      <th>dd</th>\n",
              "      <th>ff</th>\n",
              "      <th>h</th>\n",
              "      <th>j</th>\n",
              "      <th>n</th>\n",
              "      <th>o</th>\n",
              "      <th>v</th>\n",
              "      <th>z</th>\n",
              "      <th>All</th>\n",
              "    </tr>\n",
              "    <tr>\n",
              "      <th>A16</th>\n",
              "      <th></th>\n",
              "      <th></th>\n",
              "      <th></th>\n",
              "      <th></th>\n",
              "      <th></th>\n",
              "      <th></th>\n",
              "      <th></th>\n",
              "      <th></th>\n",
              "      <th></th>\n",
              "      <th></th>\n",
              "    </tr>\n",
              "  </thead>\n",
              "  <tbody>\n",
              "    <tr>\n",
              "      <th>+</th>\n",
              "      <td>24</td>\n",
              "      <td>2</td>\n",
              "      <td>8</td>\n",
              "      <td>87</td>\n",
              "      <td>3</td>\n",
              "      <td>2</td>\n",
              "      <td>1</td>\n",
              "      <td>163</td>\n",
              "      <td>6</td>\n",
              "      <td>296</td>\n",
              "    </tr>\n",
              "    <tr>\n",
              "      <th>-</th>\n",
              "      <td>29</td>\n",
              "      <td>4</td>\n",
              "      <td>46</td>\n",
              "      <td>50</td>\n",
              "      <td>5</td>\n",
              "      <td>2</td>\n",
              "      <td>1</td>\n",
              "      <td>218</td>\n",
              "      <td>2</td>\n",
              "      <td>357</td>\n",
              "    </tr>\n",
              "    <tr>\n",
              "      <th>All</th>\n",
              "      <td>53</td>\n",
              "      <td>6</td>\n",
              "      <td>54</td>\n",
              "      <td>137</td>\n",
              "      <td>8</td>\n",
              "      <td>4</td>\n",
              "      <td>2</td>\n",
              "      <td>381</td>\n",
              "      <td>8</td>\n",
              "      <td>653</td>\n",
              "    </tr>\n",
              "  </tbody>\n",
              "</table>\n",
              "</div>"
            ],
            "text/plain": [
              "A7   bb  dd  ff    h  j  n  o    v  z  All\n",
              "A16                                       \n",
              "+    24   2   8   87  3  2  1  163  6  296\n",
              "-    29   4  46   50  5  2  1  218  2  357\n",
              "All  53   6  54  137  8  4  2  381  8  653"
            ]
          },
          "metadata": {
            "tags": []
          },
          "execution_count": 128
        }
      ]
    },
    {
      "cell_type": "code",
      "metadata": {
        "id": "iaAOJ9Rylp3A",
        "colab_type": "code",
        "colab": {
          "base_uri": "https://localhost:8080/",
          "height": 136
        },
        "outputId": "662e3750-d377-4b3d-fad8-4cc40e712c74"
      },
      "source": [
        "# 2. CALCULATE EXPECTED VALUES\n",
        "\n",
        "row_sums = contingency_table.iloc[0:2, 9]\n",
        "col_sums = contingency_table.iloc[2, 0:9]\n",
        "total = contingency_table.loc['All','All']\n",
        "\n",
        "expected = []\n",
        "for x in range(len(row_sums)):\n",
        "    expected_row = []\n",
        "    for y in col_sums:\n",
        "        exp_val = y * (row_sums[x] / total)\n",
        "        expected_row.append(exp_val)\n",
        "    expected.append(expected_row)\n",
        "    \n",
        "expected = np.array(expected)\n",
        "print(expected.shape)\n",
        "expected"
      ],
      "execution_count": 129,
      "outputs": [
        {
          "output_type": "stream",
          "text": [
            "(2, 9)\n"
          ],
          "name": "stdout"
        },
        {
          "output_type": "execute_result",
          "data": {
            "text/plain": [
              "array([[ 24.0245023 ,   2.71975498,  24.47779479,  62.10107198,\n",
              "          3.62633997,   1.81316998,   0.90658499, 172.70444104,\n",
              "          3.62633997],\n",
              "       [ 28.9754977 ,   3.28024502,  29.52220521,  74.89892802,\n",
              "          4.37366003,   2.18683002,   1.09341501, 208.29555896,\n",
              "          4.37366003]])"
            ]
          },
          "metadata": {
            "tags": []
          },
          "execution_count": 129
        }
      ]
    },
    {
      "cell_type": "code",
      "metadata": {
        "id": "99x8s4aHlq2f",
        "colab_type": "code",
        "colab": {
          "base_uri": "https://localhost:8080/",
          "height": 51
        },
        "outputId": "2b4107b0-a671-4e8d-972d-76aff63b8e91"
      },
      "source": [
        "# 3. CHI SQUARE TEST\n",
        "\n",
        "observed = pd.crosstab(crx['A16'], crx['A7']).values\n",
        "\n",
        "chi_square = ((observed - expected)**2 / (expected)).sum()\n",
        "pval = 1 - stats.chi2.cdf(chi_square, len(expected_row) - 1)\n",
        "print('CHI-2: ', chi_square)\n",
        "print('P-VAL: ', pval)"
      ],
      "execution_count": 141,
      "outputs": [
        {
          "output_type": "stream",
          "text": [
            "CHI-2:  42.988254470828515\n",
            "P-VAL:  8.829142689181779e-07\n"
          ],
          "name": "stdout"
        }
      ]
    },
    {
      "cell_type": "markdown",
      "metadata": {
        "id": "txScqE2imSST",
        "colab_type": "text"
      },
      "source": [
        "P-value is fine. Test stat seems low, but it's hard to tell without comparing. Now I'll run a loop to test all categorical variables."
      ]
    },
    {
      "cell_type": "code",
      "metadata": {
        "id": "ZU3i0FwwmXR5",
        "colab_type": "code",
        "colab": {
          "base_uri": "https://localhost:8080/",
          "height": 867
        },
        "outputId": "9b58aaa0-11b4-4154-fb65-23a3e451a033"
      },
      "source": [
        "for col in cat_cols:\n",
        "\n",
        "    observed = pd.crosstab(crx['A16'], crx[col]).values\n",
        "\n",
        "    chi_squared, p_value, dof, expected = stats.chi2_contingency(observed)\n",
        "    print(col)\n",
        "    print('CHI-2: ', chi_squared)\n",
        "    print('P-VAL: ', p_value)\n",
        "    print('\\n')"
      ],
      "execution_count": 124,
      "outputs": [
        {
          "output_type": "stream",
          "text": [
            "A1\n",
            "CHI-2:  0.17764082160253514\n",
            "P-VAL:  0.6734085695133722\n",
            "\n",
            "\n",
            "A4\n",
            "CHI-2:  21.78325079317282\n",
            "P-VAL:  1.8613463470618034e-05\n",
            "\n",
            "\n",
            "A5\n",
            "CHI-2:  21.78325079317282\n",
            "P-VAL:  1.8613463470618034e-05\n",
            "\n",
            "\n",
            "A6\n",
            "CHI-2:  89.76481160702343\n",
            "P-VAL:  1.5500154549498966e-13\n",
            "\n",
            "\n",
            "A7\n",
            "CHI-2:  42.988254470828515\n",
            "P-VAL:  8.829142688919391e-07\n",
            "\n",
            "\n",
            "A9\n",
            "CHI-2:  353.4827159410316\n",
            "P-VAL:  7.391616628555818e-79\n",
            "\n",
            "\n",
            "A10\n",
            "CHI-2:  131.50867232095965\n",
            "P-VAL:  1.9163536191857147e-30\n",
            "\n",
            "\n",
            "A11\n",
            "CHI-2:  190.8992565752841\n",
            "P-VAL:  6.795432610224608e-29\n",
            "\n",
            "\n",
            "A12\n",
            "CHI-2:  1.4379377134356208\n",
            "P-VAL:  0.23047335495661603\n",
            "\n",
            "\n",
            "A13\n",
            "CHI-2:  6.756491933104269\n",
            "P-VAL:  0.03410722751542202\n",
            "\n",
            "\n"
          ],
          "name": "stdout"
        }
      ]
    },
    {
      "cell_type": "markdown",
      "metadata": {
        "id": "4txkMdN8nzn5",
        "colab_type": "text"
      },
      "source": [
        "Most columns have p-values well below the threshold for rejecting the null hypothesis. **`A9`** has the lowest p-value, but also has the highest test statistic. I don't think the high test stat is relevant here independent of the p-value.\n",
        "\n",
        "**`A13`** has the lowest test stat while maintaining a p-value of below 0.05; however, I *think* the indicator of best fit is the p-value, not the test stat.\n",
        "\n",
        "Meanwhile, **`A1`** and **`A12`** have a large p-value, indicating that they are likely independent of the class label.\n",
        "\n",
        "I would love to have a way to visualize these relationships, but am not finding anything."
      ]
    },
    {
      "cell_type": "markdown",
      "metadata": {
        "id": "4eHwfMUhhFcJ",
        "colab_type": "text"
      },
      "source": [
        "#3"
      ]
    },
    {
      "cell_type": "markdown",
      "metadata": {
        "id": "ZM8JckA2bgnp",
        "colab_type": "text"
      },
      "source": [
        "## Part 3 - Analysis and Interpretation\n",
        "\n",
        "Now that you've looked at the data, answer the following questions:\n",
        "\n",
        "- Interpret and explain the two t-tests you ran - what do they tell you about the relationships between the continuous features you selected and the class labels?\n",
        "- Interpret and explain the two Chi-squared tests you ran - what do they tell you about the relationships between the categorical features you selected and the class labels?\n",
        "- What was the most challenging part of this sprint challenge?\n",
        "\n",
        "Answer with text, but feel free to intersperse example code/results or refer to it from earlier."
      ]
    },
    {
      "cell_type": "markdown",
      "metadata": {
        "id": "LIozLDNG2Uhu",
        "colab_type": "text"
      },
      "source": [
        "- **T-tests.** The t-tests I ran indicate that **`A14`** is least likely to have a relationship with class labels, while the means all other categorical variables were significantly different across class labels. This seems to indicate that the categorical variables were by and large correlated with class labels.\n",
        "\n",
        "- **Chi-squared tests.** I saw a similar trend with my Chi-squared tests; all but two features (**`A1`** and **`A12`**) appear to be significantly correlated with class labels.\n",
        "\n",
        "- **Challenges.** The most difficult part of statistical tests for me is knowing what my results mean. For example, I'm not totally sure the conclusions I drew from the above tests are correct. If they aren't, then the *opposite* conclusions are true."
      ]
    }
  ]
}